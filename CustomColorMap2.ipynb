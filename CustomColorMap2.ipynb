{
 "cells": [
  {
   "cell_type": "markdown",
   "id": "63c324d3",
   "metadata": {},
   "source": [
    "https://towardsdatascience.com/simple-steps-to-create-custom-colormaps-in-python-f21482778aa2"
   ]
  },
  {
   "cell_type": "code",
   "execution_count": 5,
   "id": "2fd7e6c2",
   "metadata": {
    "ExecuteTime": {
     "end_time": "2022-07-01T16:58:29.380186Z",
     "start_time": "2022-07-01T16:58:29.377340Z"
    }
   },
   "outputs": [],
   "source": [
    "from matplotlib import colors\n",
    "import numpy as np\n",
    "import os\n",
    "import matplotlib.pyplot as plt\n",
    "from matplotlib import cm"
   ]
  },
  {
   "cell_type": "code",
   "execution_count": 1,
   "id": "34cd9239",
   "metadata": {
    "ExecuteTime": {
     "end_time": "2022-07-01T16:57:40.039368Z",
     "start_time": "2022-07-01T16:57:15.710586Z"
    }
   },
   "outputs": [
    {
     "name": "stdout",
     "output_type": "stream",
     "text": [
      "Creating directory /Users/tommychin/Library/Application Support/bioservices \n"
     ]
    }
   ],
   "source": [
    "from sctriangulate.colors import build_custom_continuous_cmap\n",
    "new_cmap = build_custom_continuous_cmap([64,57,144],[112,198,162],[230,241,146],[253,219,127],[244,109,69],[169,23,69])"
   ]
  },
  {
   "cell_type": "code",
   "execution_count": 6,
   "id": "b0c7721a",
   "metadata": {
    "ExecuteTime": {
     "end_time": "2022-07-01T16:58:31.433416Z",
     "start_time": "2022-07-01T16:58:31.288336Z"
    }
   },
   "outputs": [
    {
     "data": {
      "text/plain": [
       "<matplotlib.colorbar.Colorbar at 0x7f7df21ef9a0>"
      ]
     },
     "execution_count": 6,
     "metadata": {},
     "output_type": "execute_result"
    },
    {
     "data": {
      "image/png": "[encoded data removed]",
      "text/plain": [
       "<Figure size 432x288 with 2 Axes>"
      ]
     },
     "metadata": {
      "needs_background": "light"
     },
     "output_type": "display_data"
    }
   ],
   "source": [
    "fig,ax = plt.subplots()\n",
    "fig.colorbar(cm.ScalarMappable(norm=colors.Normalize(),cmap=new_cmap),ax=ax)"
   ]
  },
  {
   "cell_type": "code",
   "execution_count": null,
   "id": "a0ed8211",
   "metadata": {},
   "outputs": [],
   "source": []
  }
 ],
 "metadata": {
  "kernelspec": {
   "display_name": "Python 3 (ipykernel)",
   "language": "python",
   "name": "python3"
  },
  "language_info": {
   "codemirror_mode": {
    "name": "ipython",
    "version": 3
   },
   "file_extension": ".py",
   "mimetype": "text/x-python",
   "name": "python",
   "nbconvert_exporter": "python",
   "pygments_lexer": "ipython3",
   "version": "3.8.12"
  },
  "latex_envs": {
   "LaTeX_envs_menu_present": true,
   "autoclose": false,
   "autocomplete": true,
   "bibliofile": "biblio.bib",
   "cite_by": "apalike",
   "current_citInitial": 1,
   "eqLabelWithNumbers": true,
   "eqNumInitial": 1,
   "hotkeys": {
    "equation": "Ctrl-E",
    "itemize": "Ctrl-I"
   },
   "labels_anchors": false,
   "latex_user_defs": false,
   "report_style_numbering": false,
   "user_envs_cfg": false
  }
 },
 "nbformat": 4,
 "nbformat_minor": 5
}
