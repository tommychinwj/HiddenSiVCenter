{
 "cells": [
  {
   "cell_type": "code",
   "execution_count": 158,
   "id": "002f1379",
   "metadata": {
    "ExecuteTime": {
     "end_time": "2021-12-20T08:18:10.392536Z",
     "start_time": "2021-12-20T08:18:10.377698Z"
    }
   },
   "outputs": [],
   "source": [
    "import numpy as np\n",
    "import matplotlib.pyplot as plt\n",
    "import numba\n",
    "import cmath\n",
    "# plt.style.use('seaborn-pastel')\n",
    "plt.rcParams['font.family'] = 'sans-serif'\n",
    "COLOR = 'w'\n",
    "plt.rcParams['text.color'] = COLOR\n",
    "plt.rcParams['axes.labelcolor'] = COLOR\n",
    "plt.rcParams['xtick.color'] = COLOR\n",
    "plt.rcParams['ytick.color'] = COLOR\n",
    "plt.rcParams['axes.edgecolor'] = 'k'\n",
    "SIZE = 8\n",
    "plt.rcParams['font.size'] = SIZE\n",
    "plt.rcParams['legend.fontsize'] = SIZE\n",
    "plt.rcParams['figure.titlesize'] = SIZE\n",
    "plt.rcParams['figure.dpi'] = 300\n",
    "plt.rcParams['savefig.dpi'] = 800\n",
    "# plt.rcParams['image.cmap'] = 'coolwarm'\n",
    "plt.rcParams['image.cmap'] = 'jet'\n",
    "\n",
    "res = 200\n",
    "MC_N = int(1e3)"
   ]
  },
  {
   "cell_type": "markdown",
   "id": "06721b05",
   "metadata": {},
   "source": [
    "# parameters"
   ]
  },
  {
   "cell_type": "code",
   "execution_count": 159,
   "id": "740e3604",
   "metadata": {
    "ExecuteTime": {
     "end_time": "2021-12-20T08:18:10.402555Z",
     "start_time": "2021-12-20T08:18:10.395347Z"
    }
   },
   "outputs": [],
   "source": [
    "Delta_ZPL_0 = 406.83 * 0.  # 406 THz  Meesala\n",
    "lambda_SO_gs = 46e-3  # 46 GHz  Meesala\n",
    "lambda_SO_es = 255e-3  # 255 GHz  Meesala\n",
    "\n",
    "t_para = -1.7e3  # -1.7 PHz/strain  Meesala\n",
    "t_perp = 0.078e3  # 0.078 PHz/strain   Meesala\n",
    "d_gs = 1.3e3  # 1.3 PHz/strain   Meesala\n",
    "d_es = 1.8e3  # 1.8 PHz/strain   Meesala\n",
    "f_gs = -1.7e3  # -1.7 PHz/strain   Meesala\n",
    "f_es = -3.4e3 # -3.4 PHz/strain   Meesala\n",
    "\n",
    "sigma = 2.5e-4 # Kelsey\n",
    "gamma_10 = 28e-3  # 28 GHz p.3 or 1.33 Ghz p.5 Smallwood PRL\n",
    "# gamma_10 = 1e-4 # fwhm = 10e-3 Kelsey\n",
    "\n",
    "poi = -0.2  # Poisson ratio of diamond, Kelsey\n",
    "\n",
    "# omega_t = np.linspace(405.5, 408.75, res)\n",
    "# omega_tau = np.linspace(-408.75, -405.5, res)\n",
    "\n",
    "omega_t = np.linspace(-0.5, 0.5, res)\n",
    "omega_tau = np.linspace(-0.5, 0.5, res)"
   ]
  },
  {
   "cell_type": "markdown",
   "id": "2bb6be0b",
   "metadata": {},
   "source": [
    "# colorbar function"
   ]
  },
  {
   "cell_type": "code",
   "execution_count": 160,
   "id": "d80a8dbe",
   "metadata": {
    "ExecuteTime": {
     "end_time": "2021-12-20T08:18:10.410331Z",
     "start_time": "2021-12-20T08:18:10.404911Z"
    }
   },
   "outputs": [],
   "source": [
    "# @numba.jit\n",
    "def colorbar(mappable, label='arb. units'):\n",
    "    from mpl_toolkits.axes_grid1 import make_axes_locatable\n",
    "    last_axes = plt.gca()\n",
    "    ax = mappable.axes\n",
    "    fig = ax.figure\n",
    "    divider = make_axes_locatable(ax)\n",
    "    cax = divider.append_axes(\"right\", size=\"5%\", pad=0.05)\n",
    "    cbar = fig.colorbar(mappable, cax=cax)\n",
    "    if label is not None:\n",
    "        plt.ylabel(label)\n",
    "    plt.sca(last_axes)\n",
    "    return cbar"
   ]
  },
  {
   "cell_type": "markdown",
   "id": "d3a7516d",
   "metadata": {},
   "source": [
    "# creating mesh"
   ]
  },
  {
   "cell_type": "code",
   "execution_count": 161,
   "id": "1d24d2f4",
   "metadata": {
    "ExecuteTime": {
     "end_time": "2021-12-20T08:18:10.417882Z",
     "start_time": "2021-12-20T08:18:10.412996Z"
    }
   },
   "outputs": [],
   "source": [
    "omega_t_mesh, omega_tau_mesh = np.meshgrid(omega_t, omega_tau, indexing='xy')"
   ]
  },
  {
   "cell_type": "markdown",
   "id": "74281847",
   "metadata": {},
   "source": [
    "# multiple plot function"
   ]
  },
  {
   "cell_type": "code",
   "execution_count": 162,
   "id": "2430e924",
   "metadata": {
    "ExecuteTime": {
     "end_time": "2021-12-20T08:18:10.432271Z",
     "start_time": "2021-12-20T08:18:10.420413Z"
    }
   },
   "outputs": [],
   "source": [
    "# @numba.jit\n",
    "def slices_plots(\n",
    "    databox,\n",
    "    titles=None,\n",
    "    figure_shape=[4, 4],\n",
    "    figure_size=(11, 10),\n",
    "    vertical_gap=0.15,\n",
    "    horizontal_gap=0.15,\n",
    "    shared_x_label=r'$\\omega_t \\quad$',\n",
    "    shared_x_label_x_position=0.515,\n",
    "    shared_x_label_y_position=0.09,\n",
    "    shared_y_label=r'$\\omega_\\tau \\quad$',\n",
    "    shared_y_label_x_position=0.08,\n",
    "    shared_y_label_y_position=0.5,\n",
    "    shared_title=r'$\\mathfrak{R} \\left\\{ \\rho^{(3)}_{10,sig} (\\omega_t, \\omega_\\tau) \\right\\}$',\n",
    "    shared_title_x_position=0.515,\n",
    "    shared_title_y_position=0.93,\n",
    "    share_x_axis=True,\n",
    "    share_y_axis=True,\n",
    "    colorbar_labels='arb. units',\n",
    "    EXTENT=(min(omega_t), max(omega_t), min(omega_tau), max(omega_tau))):\n",
    "\n",
    "    fig, ax = plt.subplots(\n",
    "        figure_shape[0],  # row\n",
    "        figure_shape[1],  # column\n",
    "        figsize=figure_size,\n",
    "        sharex=share_x_axis,\n",
    "        sharey=share_y_axis,\n",
    "        gridspec_kw={\n",
    "            \"hspace\": vertical_gap,\n",
    "            'wspace': horizontal_gap\n",
    "        })\n",
    "\n",
    "    for i in range(np.shape(databox)[0]):\n",
    "        im = ax.flatten()[i].imshow(databox[i],\n",
    "                                    origin='lower',\n",
    "                                    extent=EXTENT)\n",
    "        ax.flatten()[i].set_title(titles[i])\n",
    "\n",
    "        if np.size(colorbar_labels) == 1:\n",
    "            if (i + 1) % figure_shape[1]:\n",
    "                colorbar(im, None)\n",
    "            else:\n",
    "                colorbar(im, colorbar_labels)\n",
    "        else:\n",
    "            colorbar(im, colorbar_labels[i])\n",
    "\n",
    "    fig.suptitle(x=shared_title_x_position,\n",
    "                 y=shared_title_y_position,\n",
    "                 t=shared_title,\n",
    "                 ha='center',\n",
    "                 size=1.5 * SIZE)\n",
    "\n",
    "    if shared_x_label != None:  # shared x label\n",
    "        fig.text(x=shared_x_label_x_position,\n",
    "                 y=shared_x_label_y_position,\n",
    "                 s=shared_x_label,\n",
    "                 ha='center')\n",
    "\n",
    "    if shared_y_label != None:  # shared y label\n",
    "        fig.text(x=shared_y_label_x_position,\n",
    "                 y=shared_y_label_y_position,\n",
    "                 s=shared_y_label,\n",
    "                 va='center',\n",
    "                 rotation='vertical')\n",
    "\n",
    "    plt.show()\n",
    "    return fig"
   ]
  },
  {
   "cell_type": "markdown",
   "id": "a9c12617",
   "metadata": {},
   "source": [
    "# complex square function"
   ]
  },
  {
   "cell_type": "code",
   "execution_count": 163,
   "id": "ddd904f1",
   "metadata": {
    "ExecuteTime": {
     "end_time": "2021-12-20T08:18:10.593250Z",
     "start_time": "2021-12-20T08:18:10.434252Z"
    }
   },
   "outputs": [],
   "source": [
    "@numba.vectorize(\n",
    "    [numba.float64(numba.complex128),\n",
    "     numba.float32(numba.complex64)])\n",
    "def abs2(x):\n",
    "\n",
    "    return x.real**2. + x.imag**2."
   ]
  },
  {
   "cell_type": "markdown",
   "id": "7c7c833b",
   "metadata": {},
   "source": [
    "# complex phase"
   ]
  },
  {
   "cell_type": "code",
   "execution_count": 164,
   "id": "b8c6b8ab",
   "metadata": {
    "ExecuteTime": {
     "end_time": "2021-12-20T08:18:10.678691Z",
     "start_time": "2021-12-20T08:18:10.594645Z"
    }
   },
   "outputs": [],
   "source": [
    "@numba.vectorize(\n",
    "    [numba.float64(numba.complex128),\n",
    "     numba.float32(numba.complex64)])\n",
    "def phase(x):\n",
    "\n",
    "    return cmath.phase(x)"
   ]
  },
  {
   "cell_type": "markdown",
   "id": "d78fadb7",
   "metadata": {},
   "source": [
    "\\begin{equation}\\label{eq:1}\n",
    "    \\Delta_{ZPL}(\\epsilon_{xx}, \\epsilon_{yy}, \\epsilon_{zz}) = \\Delta_{ZPL,0} + (t_{\\parallel,es} - t_{\\parallel,gs})\\epsilon_{zz} + (t_{\\perp,es} - t_{\\perp,gs})(\\epsilon_{xx} + \\epsilon_{yy})\n",
    "\\end{equation}\n"
   ]
  },
  {
   "cell_type": "code",
   "execution_count": 165,
   "id": "aecc3dcf",
   "metadata": {
    "ExecuteTime": {
     "end_time": "2021-12-20T08:18:10.683729Z",
     "start_time": "2021-12-20T08:18:10.680053Z"
    }
   },
   "outputs": [],
   "source": [
    "@numba.jit\n",
    "def Delta_ZPL(eps_xx=0., \n",
    "              eps_yy=0., \n",
    "              eps_zz=0.):\n",
    "    \n",
    "    return Delta_ZPL_0 + t_para*eps_zz + t_perp*(eps_xx + eps_yy)"
   ]
  },
  {
   "cell_type": "markdown",
   "id": "405cc8e2",
   "metadata": {},
   "source": [
    "\\begin{equation}\\label{eq:2}\n",
    "    \\Delta_{gs}(\\epsilon_{xx}, \\epsilon_{yy}, \\epsilon_{yz}, \\epsilon_{xy}, \\epsilon_{zx}) = \\sqrt{\\lambda_{SO,gs}^2 + 4[d_{gs}(\\epsilon_{xx} - \\epsilon_{yy}) + f_{gs} \\epsilon_{yz}]^2 + 4[-2d_{gs} \\epsilon_{xy} + f_{gs} \\epsilon_{zx}]^2}\n",
    "\\end{equation}"
   ]
  },
  {
   "cell_type": "code",
   "execution_count": 166,
   "id": "cbbe71b4",
   "metadata": {
    "ExecuteTime": {
     "end_time": "2021-12-20T08:18:10.690735Z",
     "start_time": "2021-12-20T08:18:10.686852Z"
    }
   },
   "outputs": [],
   "source": [
    "@numba.jit\n",
    "def Delta_gs(eps_xx=0., \n",
    "             eps_yy=0., \n",
    "             eps_yz=0., \n",
    "             eps_xy=0., \n",
    "             eps_zx=0.):\n",
    "\n",
    "    return np.sqrt(\n",
    "        np.sum([\n",
    "            lambda_SO_gs**2.,\n",
    "            4. * (d_gs * (eps_xx - eps_yy) + f_gs * eps_yz)**2.,\n",
    "            4. * (-2. * d_gs * eps_xy + f_gs * eps_zx)**2.\n",
    "        ]))"
   ]
  },
  {
   "cell_type": "markdown",
   "id": "b65a6e7a",
   "metadata": {},
   "source": [
    "\\begin{equation}\\label{eq:3}\n",
    "    \\Delta_{es}(\\epsilon_{xx}, \\epsilon_{yy}, \\epsilon_{yz}, \\epsilon_{xy}, \\epsilon_{zx}) = \\sqrt{\\lambda_{SO,es}^2 + 4[d_{es}(\\epsilon_{xx} - \\epsilon_{yy}) + f_{es} \\epsilon_{yz}]^2 + 4[-2d_{es} \\epsilon_{xy} + f_{es} \\epsilon_{zx}]^2}\n",
    "\\end{equation}"
   ]
  },
  {
   "cell_type": "code",
   "execution_count": 167,
   "id": "188d2c42",
   "metadata": {
    "ExecuteTime": {
     "end_time": "2021-12-20T08:18:10.696501Z",
     "start_time": "2021-12-20T08:18:10.692605Z"
    }
   },
   "outputs": [],
   "source": [
    "@numba.jit\n",
    "def Delta_es(eps_xx=0., \n",
    "             eps_yy=0., \n",
    "             eps_yz=0., \n",
    "             eps_xy=0., \n",
    "             eps_zx=0.):\n",
    "\n",
    "    return np.sqrt(\n",
    "        np.sum([\n",
    "            lambda_SO_es**2.,\n",
    "            4. * (d_es * (eps_xx - eps_yy) + f_es * eps_yz)**2.,\n",
    "            4. * (-2. * d_es * eps_xy + f_es * eps_zx)**2.\n",
    "        ]))"
   ]
  },
  {
   "cell_type": "markdown",
   "id": "f752461c",
   "metadata": {
    "ExecuteTime": {
     "end_time": "2021-12-20T03:44:40.688946Z",
     "start_time": "2021-12-20T03:44:40.684015Z"
    }
   },
   "source": [
    "\\begin{equation}\\label{eq:4}\n",
    "    \\rho (\\omega_t, \\omega_{\\tau}, \\epsilon_{xx}, \\epsilon_{yy}, \\epsilon_{zz}, \\epsilon_{yz}, \\epsilon_{xy}, \\epsilon_{zx}) = \\left( \\frac{i \\sqrt{A} \\, \\gamma_{10}}{\\omega_t-[\\Delta_{ZPL} \\pm \\Delta_{gs} \\pm \\Delta_{es} - i \\gamma_{10}]} \\right ) \\left (\\frac{i \\sqrt{A} \\, \\gamma_{10}}{\\omega_{\\tau}+[\\Delta_{ZPL} \\pm \\Delta_{gs} \\pm \\Delta_{es} + i \\gamma_{10}]} \\right)\n",
    "\\end{equation}\n"
   ]
  },
  {
   "cell_type": "code",
   "execution_count": 168,
   "id": "2b80e25c",
   "metadata": {
    "ExecuteTime": {
     "end_time": "2021-12-20T08:18:10.709084Z",
     "start_time": "2021-12-20T08:18:10.698179Z"
    }
   },
   "outputs": [],
   "source": [
    "@numba.jit\n",
    "def rho(omega_t,\n",
    "        omega_tau,\n",
    "        eps_xx=0.,\n",
    "        eps_yy=0.,\n",
    "        eps_zz=0.,\n",
    "        eps_yz=0.,\n",
    "        eps_xy=0.,\n",
    "        eps_zx=0.):\n",
    "\n",
    "    Del_ZPL = Delta_ZPL(eps_xx, eps_yy, eps_zz)\n",
    "\n",
    "    Del_gs = Delta_gs(eps_xx, eps_yy, eps_yz, eps_xy, eps_zx)\n",
    "\n",
    "    Del_es = Delta_es(eps_xx, eps_yy, eps_yz, eps_xy, eps_zx)\n",
    "\n",
    "    amp = np.array(\n",
    "        [0.0938, 0.0833, 0.0579, 0.0576,\n",
    "         0.0709, 1.0000, 0.0799, 0.1521, \n",
    "         0.0631, 0.0837, 0.3036, 0.0737, \n",
    "         0.0522, 0.1212, 0.0581, 0.1228])\n",
    "#     amp = np.array(\n",
    "#         [0., 1., 1., 1., \n",
    "#          1., 1., 1., 1., \n",
    "#          1., 1., 1., 1., \n",
    "#          1., 1., 1., 1.])\n",
    "\n",
    "    sign = np.array([[ 1.,  1.,  1.,  1.], \n",
    "                     [ 1.,  1.,  1., -1.], \n",
    "                     [ 1.,  1., -1.,  1.],\n",
    "                     [ 1.,  1., -1., -1.], \n",
    "                     [ 1., -1.,  1.,  1.], \n",
    "                     [ 1., -1.,  1., -1.],\n",
    "                     [ 1., -1., -1.,  1.], \n",
    "                     [ 1., -1., -1., -1.],\n",
    "                     [-1.,  1.,  1.,  1.], \n",
    "                     [-1.,  1.,  1., -1.], \n",
    "                     [-1.,  1., -1.,  1.],\n",
    "                     [-1.,  1., -1., -1.], \n",
    "                     [-1., -1.,  1.,  1.],\n",
    "                     [-1., -1.,  1., -1.], \n",
    "                     [-1., -1., -1.,  1.],\n",
    "                     [-1., -1., -1., -1.]])\n",
    "\n",
    "    RHO = 1.j * np.zeros(np.shape(omega_t))\n",
    "\n",
    "    for i in range(np.shape(sign)[0]):\n",
    "        t_Lorentz = 1.j * np.sqrt(amp[i]) * gamma_10 / (\n",
    "            omega_t - (Del_ZPL + sign[i, 0] * Del_gs + sign[i, 1] * Del_es -\n",
    "                       1.j * gamma_10))\n",
    "        tau_Lorentz = 1.j * np.sqrt(amp[i]) * gamma_10 / (\n",
    "            omega_tau + (Del_ZPL + sign[i, 2] * Del_gs + sign[i, 3] * Del_es +\n",
    "                         1.j * gamma_10))\n",
    "\n",
    "        RHO += t_Lorentz * tau_Lorentz\n",
    "\n",
    "    return RHO"
   ]
  },
  {
   "cell_type": "code",
   "execution_count": 169,
   "id": "22f01a99",
   "metadata": {
    "ExecuteTime": {
     "end_time": "2021-12-20T08:18:14.160267Z",
     "start_time": "2021-12-20T08:18:10.710970Z"
    }
   },
   "outputs": [
    {
     "name": "stderr",
     "output_type": "stream",
     "text": [
      "/var/folders/ll/xnd2vddx2v58kn3khq6ldnc00000gn/T/ipykernel_2157/565402565.py:1: NumbaWarning: \u001b[1m\n",
      "Compilation is falling back to object mode WITH looplifting enabled because Function \"rho\" failed type inference due to: \u001b[1m\u001b[1m\u001b[1mInvalid use of type(CPUDispatcher(<function Delta_gs at 0x7fb699f5f430>)) with parameters (float64, float64, float64, float64, float64)\n",
      "\u001b[0m\n",
      "\u001b[0m\u001b[1mDuring: resolving callee type: type(CPUDispatcher(<function Delta_gs at 0x7fb699f5f430>))\u001b[0m\n",
      "\u001b[0m\u001b[1mDuring: typing of call at /var/folders/ll/xnd2vddx2v58kn3khq6ldnc00000gn/T/ipykernel_2157/565402565.py (13)\n",
      "\u001b[0m\n",
      "\u001b[1m\n",
      "File \"../../../../../../var/folders/ll/xnd2vddx2v58kn3khq6ldnc00000gn/T/ipykernel_2157/565402565.py\", line 13:\u001b[0m\n",
      "\u001b[1m<source missing, REPL/exec in use?>\u001b[0m\n",
      "\u001b[0m\n",
      "  @numba.jit\n",
      "/var/folders/ll/xnd2vddx2v58kn3khq6ldnc00000gn/T/ipykernel_2157/565402565.py:1: NumbaWarning: \u001b[1m\n",
      "Compilation is falling back to object mode WITHOUT looplifting enabled because Function \"rho\" failed type inference due to: \u001b[1m\u001b[1mCannot determine Numba type of <class 'numba.core.dispatcher.LiftedLoop'>\u001b[0m\n",
      "\u001b[1m\n",
      "File \"../../../../../../var/folders/ll/xnd2vddx2v58kn3khq6ldnc00000gn/T/ipykernel_2157/565402565.py\", line 47:\u001b[0m\n",
      "\u001b[1m<source missing, REPL/exec in use?>\u001b[0m\n",
      "\u001b[0m\u001b[0m\n",
      "  @numba.jit\n",
      "/Users/tommychin/opt/anaconda3/lib/python3.8/site-packages/numba/core/object_mode_passes.py:151: NumbaWarning: \u001b[1mFunction \"rho\" was compiled in object mode without forceobj=True, but has lifted loops.\n",
      "\u001b[1m\n",
      "File \"../../../../../../var/folders/ll/xnd2vddx2v58kn3khq6ldnc00000gn/T/ipykernel_2157/565402565.py\", line 11:\u001b[0m\n",
      "\u001b[1m<source missing, REPL/exec in use?>\u001b[0m\n",
      "\u001b[0m\n",
      "  warnings.warn(errors.NumbaWarning(warn_msg,\n",
      "/Users/tommychin/opt/anaconda3/lib/python3.8/site-packages/numba/core/object_mode_passes.py:161: NumbaDeprecationWarning: \u001b[1m\n",
      "Fall-back from the nopython compilation path to the object mode compilation path has been detected, this is deprecated behaviour.\n",
      "\n",
      "For more information visit https://numba.pydata.org/numba-doc/latest/reference/deprecation.html#deprecation-of-object-mode-fall-back-behaviour-when-using-jit\n",
      "\u001b[1m\n",
      "File \"../../../../../../var/folders/ll/xnd2vddx2v58kn3khq6ldnc00000gn/T/ipykernel_2157/565402565.py\", line 11:\u001b[0m\n",
      "\u001b[1m<source missing, REPL/exec in use?>\u001b[0m\n",
      "\u001b[0m\n",
      "  warnings.warn(errors.NumbaDeprecationWarning(msg,\n"
     ]
    },
    {
     "data": {
      "image/png": "[encoded data removed]",
      "text/plain": [
       "<Figure size 1800x1200 with 2 Axes>"
      ]
     },
     "metadata": {
      "needs_background": "dark"
     },
     "output_type": "display_data"
    }
   ],
   "source": [
    "RHO = abs2(rho(omega_t_mesh, omega_tau_mesh))\n",
    "\n",
    "plt.figure()\n",
    "im = plt.imshow(RHO, \n",
    "                origin='lower', \n",
    "                extent=(min(omega_t), \n",
    "                        max(omega_t), \n",
    "                        min(omega_tau), \n",
    "                        max(omega_tau)))\n",
    "plt.xlabel(r'$\\omega_t$')\n",
    "plt.ylabel(r'$\\omega_\\tau$')\n",
    "plt.title(r'$\\omega_\\tau$ mesh')\n",
    "colorbar(im)\n",
    "plt.show()\n"
   ]
  }
 ],
 "metadata": {
  "kernelspec": {
   "display_name": "Python 3 (ipykernel)",
   "language": "python",
   "name": "python3"
  },
  "language_info": {
   "codemirror_mode": {
    "name": "ipython",
    "version": 3
   },
   "file_extension": ".py",
   "mimetype": "text/x-python",
   "name": "python",
   "nbconvert_exporter": "python",
   "pygments_lexer": "ipython3",
   "version": "3.8.12"
  },
  "latex_envs": {
   "LaTeX_envs_menu_present": true,
   "autoclose": false,
   "autocomplete": true,
   "bibliofile": "biblio.bib",
   "cite_by": "apalike",
   "current_citInitial": 1,
   "eqLabelWithNumbers": true,
   "eqNumInitial": 1,
   "hotkeys": {
    "equation": "Ctrl-E",
    "itemize": "Ctrl-I"
   },
   "labels_anchors": false,
   "latex_user_defs": false,
   "report_style_numbering": false,
   "user_envs_cfg": false
  }
 },
 "nbformat": 4,
 "nbformat_minor": 5
}
