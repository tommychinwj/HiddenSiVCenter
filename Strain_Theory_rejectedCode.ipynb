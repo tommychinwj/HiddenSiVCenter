{
 "cells": [
  {
   "cell_type": "markdown",
   "id": "e69bee8f",
   "metadata": {},
   "source": [
    "\\begin{equation}\\label{eq:4}\n",
    "    \\rho (\\omega_t, \\omega_{\\tau}, \\epsilon_{xx}, \\epsilon_{yy}, \\epsilon_{zz}, \\epsilon_{yz}, \\epsilon_{xy}, \\epsilon_{zx}) = \\left( \\frac{1}{\\omega_t-[\\Delta_{ZPL} \\pm \\Delta_{gs} \\pm \\Delta_{es} - i \\gamma_{10}]} \\right ) \\left (\\frac{1}{\\omega_{\\tau}+[\\Delta_{ZPL} \\pm \\Delta_{gs} \\pm \\Delta_{es} + i \\gamma_{10}]} \\right)\n",
    "\\end{equation}\n"
   ]
  },
  {
   "cell_type": "code",
   "execution_count": null,
   "id": "fd27c570",
   "metadata": {},
   "outputs": [],
   "source": [
    "# Adaptive method, taking too long. 1 hr for 1 set of ω_t ω_τ\n",
    "\n",
    "# @numba.generated_jit\n",
    "def randDirInt(func):\n",
    "    \n",
    "    def real_func(eps_zz_0, theta, phi):\n",
    "        return np.real(func(eps_zz_0, theta, phi))\n",
    "\n",
    "    def imag_func(eps_zz_0, theta, phi):\n",
    "        return np.imag(func(eps_zz_0, theta, phi))\n",
    "\n",
    "    real_int = spint.nquad(real_func,\n",
    "                           [[-np.inf, np.inf], [0., np.pi], [0., 2. * np.pi]])\n",
    "    imag_int = spint.nquad(imag_func,\n",
    "                           [[-np.inf, np.inf], [0., np.pi], [0., 2. * np.pi]])\n",
    "\n",
    "    return [real_int[0] + 1.j * imag_int[0], real_int[1], imag_int[1]]\n",
    "\n",
    "func = lambda eps_zz_0, theta, phi: np.sin(theta) * Gaus(eps_zz_0) * rho(\n",
    "    0.,\n",
    "    0.,\n",
    "    eps_xx=eps_xx_p(eps_zz_0, theta, phi),\n",
    "    eps_yy=eps_yy_p(eps_zz_0, theta, phi),\n",
    "    eps_zz=eps_zz_p(eps_zz_0, theta, phi),\n",
    "    eps_yz=eps_yz_p(eps_zz_0, theta, phi),\n",
    "    eps_xy=eps_xy_p(eps_zz_0, theta, phi),\n",
    "    eps_zx=eps_zx_p(eps_zz_0, theta, phi))\n",
    "\n",
    "# func = lambda eps_zz_0, theta, phi: Gaus(eps_zz_0) * np.sin(theta) * (eps_zz_0 + theta + phi)\n",
    "\n",
    "I_randDir, int_err_randDir = randDirInt(func)[0], randDirInt(func)[1]\n",
    "I_randDir /= np.sqrt(np.max(abs2(I_randDir)))\n",
    "\n",
    "https://docs.scipy.org/doc/scipy/reference/generated/scipy.integrate.nquad.html\n",
    "\n",
    "https://stackoverflow.com/questions/5965583/use-scipy-integrate-quad-to-integrate-complex-numbers@numba.jit\n",
    "def rho(omega_t, \n",
    "        omega_tau, \n",
    "        eps_xx = 0., \n",
    "        eps_yy = 0., \n",
    "        eps_zz = 0., \n",
    "        eps_yz = 0., \n",
    "        eps_xy = 0., \n",
    "        eps_zx = 0.):\n",
    "    \n",
    "    Del_ZPL = Delta_ZPL(eps_xx, \n",
    "                        eps_yy, \n",
    "                        eps_zz)\n",
    "    \n",
    "    Del_gs = Delta_gs(eps_xx, \n",
    "                      eps_yy, \n",
    "                      eps_yz, \n",
    "                      eps_xy, \n",
    "                      eps_zx)\n",
    "    \n",
    "    Del_es = Delta_es(eps_xx, \n",
    "                      eps_yy, \n",
    "                      eps_yz, \n",
    "                      eps_xy, \n",
    "                      eps_zx)\n",
    "    \n",
    "    return  np.sum([(1. / (omega_t - (Del_ZPL + Del_gs + Del_es - 1j*gamma_10))) * (1. / (omega_tau + Del_ZPL + Del_gs + Del_es + 1j*gamma_10)), \n",
    "                    (1. / (omega_t - (Del_ZPL + Del_gs + Del_es - 1j*gamma_10))) * (1. / (omega_tau + Del_ZPL + Del_gs - Del_es + 1j*gamma_10)), \n",
    "                    (1. / (omega_t - (Del_ZPL + Del_gs + Del_es - 1j*gamma_10))) * (1. / (omega_tau + Del_ZPL - Del_gs + Del_es + 1j*gamma_10)), \n",
    "                    (1. / (omega_t - (Del_ZPL + Del_gs + Del_es - 1j*gamma_10))) * (1. / (omega_tau + Del_ZPL - Del_gs - Del_es + 1j*gamma_10)), \n",
    "                    (1. / (omega_t - (Del_ZPL + Del_gs - Del_es - 1j*gamma_10))) * (1. / (omega_tau + Del_ZPL + Del_gs + Del_es + 1j*gamma_10)), \n",
    "                    (1. / (omega_t - (Del_ZPL + Del_gs - Del_es - 1j*gamma_10))) * (1. / (omega_tau + Del_ZPL + Del_gs - Del_es + 1j*gamma_10)),\n",
    "                    (1. / (omega_t - (Del_ZPL + Del_gs - Del_es - 1j*gamma_10))) * (1. / (omega_tau + Del_ZPL - Del_gs + Del_es + 1j*gamma_10)), \n",
    "                    (1. / (omega_t - (Del_ZPL + Del_gs - Del_es - 1j*gamma_10))) * (1. / (omega_tau + Del_ZPL - Del_gs - Del_es + 1j*gamma_10)), \n",
    "                    (1. / (omega_t - (Del_ZPL - Del_gs + Del_es - 1j*gamma_10))) * (1. / (omega_tau + Del_ZPL + Del_gs + Del_es + 1j*gamma_10)), \n",
    "                    (1. / (omega_t - (Del_ZPL - Del_gs + Del_es - 1j*gamma_10))) * (1. / (omega_tau + Del_ZPL + Del_gs - Del_es + 1j*gamma_10)), \n",
    "                    (1. / (omega_t - (Del_ZPL - Del_gs + Del_es - 1j*gamma_10))) * (1. / (omega_tau + Del_ZPL - Del_gs + Del_es + 1j*gamma_10)),\n",
    "                    (1. / (omega_t - (Del_ZPL - Del_gs + Del_es - 1j*gamma_10))) * (1. / (omega_tau + Del_ZPL - Del_gs - Del_es + 1j*gamma_10)), \n",
    "                    (1. / (omega_t - (Del_ZPL - Del_gs - Del_es - 1j*gamma_10))) * (1. / (omega_tau + Del_ZPL + Del_gs + Del_es + 1j*gamma_10)), \n",
    "                    (1. / (omega_t - (Del_ZPL - Del_gs - Del_es - 1j*gamma_10))) * (1. / (omega_tau + Del_ZPL + Del_gs - Del_es + 1j*gamma_10)), \n",
    "                    (1. / (omega_t - (Del_ZPL - Del_gs - Del_es - 1j*gamma_10))) * (1. / (omega_tau + Del_ZPL - Del_gs + Del_es + 1j*gamma_10)),\n",
    "                    (1. / (omega_t - (Del_ZPL - Del_gs - Del_es - 1j*gamma_10))) * (1. / (omega_tau + Del_ZPL - Del_gs - Del_es + 1j*gamma_10))\n",
    "                   ], 0)a"
   ]
  },
  {
   "cell_type": "markdown",
   "id": "2f87c3d2",
   "metadata": {},
   "source": [
    "# Adaptive method, taking too long. 1 hr for 1 set of ω_t ω_τ"
   ]
  },
  {
   "cell_type": "markdown",
   "id": "3055ce94",
   "metadata": {
    "ExecuteTime": {
     "end_time": "2021-11-14T19:19:36.369999Z",
     "start_time": "2021-11-14T19:19:36.365254Z"
    }
   },
   "source": [
    "# @numba.generated_jit\n",
    "def randDirInt(func):\n",
    "    \n",
    "    def real_func(eps_zz_0, theta, phi):\n",
    "        return np.real(func(eps_zz_0, theta, phi))\n",
    "\n",
    "    def imag_func(eps_zz_0, theta, phi):\n",
    "        return np.imag(func(eps_zz_0, theta, phi))\n",
    "\n",
    "    real_int = spint.nquad(real_func,\n",
    "                           [[-np.inf, np.inf], [0., np.pi], [0., 2. * np.pi]])\n",
    "    imag_int = spint.nquad(imag_func,\n",
    "                           [[-np.inf, np.inf], [0., np.pi], [0., 2. * np.pi]])\n",
    "\n",
    "    return [real_int[0] + 1.j * imag_int[0], real_int[1], imag_int[1]]"
   ]
  },
  {
   "cell_type": "markdown",
   "id": "128c2e1f",
   "metadata": {
    "ExecuteTime": {
     "end_time": "2021-11-14T20:16:57.024382Z",
     "start_time": "2021-11-14T19:19:36.820137Z"
    },
    "scrolled": false
   },
   "source": [
    "func = lambda eps_zz_0, theta, phi: np.sin(theta) * Gaus(eps_zz_0) * rho(\n",
    "    0.,\n",
    "    0.,\n",
    "    eps_xx=eps_xx_p(eps_zz_0, theta, phi),\n",
    "    eps_yy=eps_yy_p(eps_zz_0, theta, phi),\n",
    "    eps_zz=eps_zz_p(eps_zz_0, theta, phi),\n",
    "    eps_yz=eps_yz_p(eps_zz_0, theta, phi),\n",
    "    eps_xy=eps_xy_p(eps_zz_0, theta, phi),\n",
    "    eps_zx=eps_zx_p(eps_zz_0, theta, phi))\n",
    "\n",
    "# func = lambda eps_zz_0, theta, phi: Gaus(eps_zz_0) * np.sin(theta) * (eps_zz_0 + theta + phi)\n",
    "\n",
    "I_randDir, int_err_randDir = randDirInt(func)[0], randDirInt(func)[1]\n",
    "I_randDir /= np.sqrt(np.max(abs2(I_randDir)))"
   ]
  },
  {
   "cell_type": "markdown",
   "id": "bfe4670d",
   "metadata": {},
   "source": [
    "https://docs.scipy.org/doc/scipy/reference/generated/scipy.integrate.nquad.html"
   ]
  },
  {
   "cell_type": "markdown",
   "id": "6b0eee23",
   "metadata": {},
   "source": [
    "https://stackoverflow.com/questions/5965583/use-scipy-integrate-quad-to-integrate-complex-numbers"
   ]
  },
  {
   "cell_type": "markdown",
   "id": "11b0f0b0",
   "metadata": {},
   "source": [
    "\n",
    "\n",
    "\\begin{pmatrix}\n",
    "\\left [p \\, \\cos^2{\\phi} + \\sin^2{\\phi}\\left (p \\, \\cos^2{\\theta} + \\sin^2{\\theta} \\right ) \\right ]\\epsilon_{zz_0} & \\left( p - 1 \\right) \\frac{\\sin{2 \\phi}}{2} \\, \\sin^2{\\theta} \\, \\epsilon_{zz_0} & \\left( 1 - p \\right) \\sin{\\phi} \\, \\frac{\\sin{2 \\theta}}{2} \\epsilon_{zz_0}\\\\\n",
    "\\left( p - 1 \\right) \\frac{\\sin{2 \\phi}}{2} \\, \\sin^2{\\theta} \\, \\epsilon_{zz_0} & \\left [p \\, \\sin^2{\\phi} + \\cos^2{\\phi}\\left (p \\, \\cos^2{\\theta} + \\sin^2{\\theta} \\right ) \\right ]\\epsilon_{zz_0} & \\left( p - 1 \\right) \\cos{\\phi} \\, \\frac{\\sin{2 \\theta}}{2} \\epsilon_{zz_0}\\\\\n",
    "\\left( 1 - p \\right) \\sin{\\phi} \\, \\frac{\\sin{2 \\theta}}{2} \\epsilon_{zz_0} & \\left( p - 1 \\right) \\cos{\\phi} \\, \\frac{\\sin{2 \\theta}}{2} \\epsilon_{zz_0} & \\left (\\cos^2{\\theta} + p \\, \\sin^2{\\theta} \\right )\\epsilon_{zz_0}\\\\\n",
    "\\end{pmatrix}\n",
    "\n"
   ]
  },
  {
   "cell_type": "code",
   "execution_count": null,
   "id": "047508a0",
   "metadata": {},
   "outputs": [],
   "source": []
  }
 ],
 "metadata": {
  "kernelspec": {
   "display_name": "Python 3 (ipykernel)",
   "language": "python",
   "name": "python3"
  },
  "language_info": {
   "codemirror_mode": {
    "name": "ipython",
    "version": 3
   },
   "file_extension": ".py",
   "mimetype": "text/x-python",
   "name": "python",
   "nbconvert_exporter": "python",
   "pygments_lexer": "ipython3",
   "version": "3.8.11"
  },
  "latex_envs": {
   "LaTeX_envs_menu_present": true,
   "autoclose": false,
   "autocomplete": true,
   "bibliofile": "biblio.bib",
   "cite_by": "apalike",
   "current_citInitial": 1,
   "eqLabelWithNumbers": true,
   "eqNumInitial": 1,
   "hotkeys": {
    "equation": "Ctrl-E",
    "itemize": "Ctrl-I"
   },
   "labels_anchors": false,
   "latex_user_defs": false,
   "report_style_numbering": false,
   "user_envs_cfg": false
  }
 },
 "nbformat": 4,
 "nbformat_minor": 5
}
