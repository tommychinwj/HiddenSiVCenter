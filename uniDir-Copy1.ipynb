{
 "cells": [
  {
   "cell_type": "code",
   "execution_count": 1,
   "id": "002f1379",
   "metadata": {
    "ExecuteTime": {
     "end_time": "2022-03-16T04:37:22.837516Z",
     "start_time": "2022-03-16T04:37:21.102386Z"
    }
   },
   "outputs": [],
   "source": [
    "import numpy as np\n",
    "import matplotlib.pyplot as plt\n",
    "import numba\n",
    "import scipy.integrate as spint\n",
    "import scipy.signal as spsig\n",
    "import cmath\n",
    "# plt.style.use('seaborn-pastel')\n",
    "plt.rcParams['font.family'] = 'sans-serif'\n",
    "COLOR = 'w'\n",
    "plt.rcParams['text.color'] = COLOR\n",
    "plt.rcParams['axes.labelcolor'] = COLOR\n",
    "plt.rcParams['xtick.color'] = COLOR\n",
    "plt.rcParams['ytick.color'] = COLOR\n",
    "plt.rcParams['axes.edgecolor'] = 'k'\n",
    "SIZE = 8\n",
    "plt.rcParams['font.size'] = SIZE\n",
    "plt.rcParams['legend.fontsize'] = SIZE\n",
    "plt.rcParams['figure.titlesize'] = SIZE\n",
    "plt.rcParams['figure.dpi'] = 300\n",
    "plt.rcParams['savefig.dpi'] = 800\n",
    "# plt.rcParams['image.cmap'] = 'coolwarm'\n",
    "plt.rcParams['image.cmap'] = 'viridis'\n",
    "\n",
    "res = 400\n",
    "MC_N = int(1e4)\n",
    "peakVals = 1\n",
    "MC_all = 0"
   ]
  },
  {
   "cell_type": "markdown",
   "id": "06721b05",
   "metadata": {},
   "source": [
    "# parameters"
   ]
  },
  {
   "cell_type": "code",
   "execution_count": 2,
   "id": "740e3604",
   "metadata": {
    "ExecuteTime": {
     "end_time": "2022-03-16T04:37:22.846934Z",
     "start_time": "2022-03-16T04:37:22.840065Z"
    }
   },
   "outputs": [],
   "source": [
    "Delta_ZPL_0 = 406.83  # 406 THz  Meesala\n",
    "lambda_SO_gs = 46e-3  # 46 GHz  Meesala\n",
    "lambda_SO_es = 255e-3  # 255 GHz  Meesala\n",
    "\n",
    "t_para = -1.7e3  # -1.7 PHz/strain  Meesala\n",
    "t_perp = 0.078e3  # 0.078 PHz/strain   Meesala\n",
    "d_gs = 1.3e3  # 1.3 PHz/strain   Meesala\n",
    "d_es = 1.8e3  # 1.8 PHz/strain   Meesala\n",
    "f_gs = -1.7e3  # -1.7 PHz/strain   Meesala\n",
    "f_es = -3.4e3 # -3.4 PHz/strain   Meesala\n",
    "\n",
    "StdDev = 5e-3 # Kelsey\n",
    "gamma_10 = 1.33e-3  # 28 GHz p.3 or 1.33 Ghz p.5 Smallwood PRL\n",
    "# gamma_10 = 1e-4 # fwhm = 10e-3 Kelsey\n",
    "\n",
    "poi = -0.2  # Poisson ratio of diamond, Kelsey\n",
    "\n",
    "# nu_t_min = 402.25\n",
    "# nu_t_max = 409.5\n",
    "\n",
    "# nu_t_min = 405.5\n",
    "# nu_t_max = 408.75\n",
    "\n",
    "nu_t_min = Delta_ZPL_0-lambda_SO_es+lambda_SO_gs - 3\n",
    "nu_t_max = Delta_ZPL_0-lambda_SO_es+lambda_SO_gs + 3\n",
    "\n",
    "# nu_t_min = -0.5\n",
    "# nu_t_max = 0.5\n",
    "\n",
    "nu_t = np.linspace(nu_t_min, nu_t_max, res)\n",
    "nu_tau = np.linspace(-nu_t_max, -nu_t_min, res)"
   ]
  },
  {
   "cell_type": "markdown",
   "id": "2bb6be0b",
   "metadata": {},
   "source": [
    "# colorbar function"
   ]
  },
  {
   "cell_type": "code",
   "execution_count": 3,
   "id": "d80a8dbe",
   "metadata": {
    "ExecuteTime": {
     "end_time": "2022-03-16T04:37:22.853370Z",
     "start_time": "2022-03-16T04:37:22.849613Z"
    }
   },
   "outputs": [],
   "source": [
    "# @numba.jit\n",
    "def colorbar(mappable, label='arb. units'):\n",
    "    from mpl_toolkits.axes_grid1 import make_axes_locatable\n",
    "    last_axes = plt.gca()\n",
    "    ax = mappable.axes\n",
    "    fig = ax.figure\n",
    "    divider = make_axes_locatable(ax)\n",
    "    cax = divider.append_axes(\"right\", size=\"5%\", pad=0.05)\n",
    "    cbar = fig.colorbar(mappable, cax=cax)\n",
    "    if label is not None:\n",
    "        plt.ylabel(label)\n",
    "    plt.sca(last_axes)\n",
    "    return cbar"
   ]
  },
  {
   "cell_type": "markdown",
   "id": "d3a7516d",
   "metadata": {},
   "source": [
    "# creating mesh"
   ]
  },
  {
   "cell_type": "code",
   "execution_count": 4,
   "id": "1d24d2f4",
   "metadata": {
    "ExecuteTime": {
     "end_time": "2022-03-16T04:37:22.860623Z",
     "start_time": "2022-03-16T04:37:22.856893Z"
    }
   },
   "outputs": [],
   "source": [
    "nu_t_mesh, nu_tau_mesh = np.meshgrid(nu_t, nu_tau, indexing='xy')"
   ]
  },
  {
   "cell_type": "markdown",
   "id": "74281847",
   "metadata": {},
   "source": [
    "# multiple plot function"
   ]
  },
  {
   "cell_type": "code",
   "execution_count": 5,
   "id": "2430e924",
   "metadata": {
    "ExecuteTime": {
     "end_time": "2022-03-16T04:37:22.870095Z",
     "start_time": "2022-03-16T04:37:22.862195Z"
    }
   },
   "outputs": [],
   "source": [
    "# @numba.jit\n",
    "def slices_plots(\n",
    "    databox,\n",
    "    titles=None,\n",
    "    figure_shape=[4, 4],\n",
    "    figure_size=(11, 10),\n",
    "    vertical_gap=0.15,\n",
    "    horizontal_gap=0.15,\n",
    "    shared_x_label=r'Third-order frequency, $\\nu_t$ (THz)',\n",
    "    shared_x_label_x_position=0.515,\n",
    "    shared_x_label_y_position=0.09,\n",
    "    shared_y_label=r'First-order frequency, $\\nu_\\tau$ (THz)',\n",
    "    shared_y_label_x_position=0.08,\n",
    "    shared_y_label_y_position=0.5,\n",
    "    shared_title=r'$\\mathfrak{R} \\left\\{ \\rho^{(3)}_{10,sig} (\\nu_t, \\nu_\\tau) \\right\\}$',\n",
    "    shared_title_x_position=0.515,\n",
    "    shared_title_y_position=0.93,\n",
    "    share_x_axis=True,\n",
    "    share_y_axis=True,\n",
    "    colorbar_labels='arb. units',\n",
    "    EXTENT=(min(nu_t), max(nu_t), min(nu_tau), max(nu_tau))):\n",
    "\n",
    "    fig, ax = plt.subplots(\n",
    "        figure_shape[0],  # row\n",
    "        figure_shape[1],  # column\n",
    "        figsize=figure_size,\n",
    "        sharex=share_x_axis,\n",
    "        sharey=share_y_axis,\n",
    "        gridspec_kw={\n",
    "            \"hspace\": vertical_gap,\n",
    "            'wspace': horizontal_gap\n",
    "        })\n",
    "\n",
    "    for i in range(np.shape(databox)[0]):\n",
    "        im = ax.flatten()[i].imshow(databox[i],\n",
    "                                    origin='lower',\n",
    "                                    extent=EXTENT)\n",
    "        ax.flatten()[i].set_title(titles[i])\n",
    "\n",
    "        if np.size(colorbar_labels) == 1:\n",
    "            if (i + 1) % figure_shape[1]:\n",
    "                colorbar(im, None)\n",
    "            else:\n",
    "                colorbar(im, colorbar_labels)\n",
    "        else:\n",
    "            colorbar(im, colorbar_labels[i])\n",
    "\n",
    "    fig.suptitle(x=shared_title_x_position,\n",
    "                 y=shared_title_y_position,\n",
    "                 t=shared_title,\n",
    "                 ha='center',\n",
    "                 size=1.5 * SIZE)\n",
    "\n",
    "    if shared_x_label != None:  # shared x label\n",
    "        fig.text(x=shared_x_label_x_position,\n",
    "                 y=shared_x_label_y_position,\n",
    "                 s=shared_x_label,\n",
    "                 ha='center')\n",
    "\n",
    "    if shared_y_label != None:  # shared y label\n",
    "        fig.text(x=shared_y_label_x_position,\n",
    "                 y=shared_y_label_y_position,\n",
    "                 s=shared_y_label,\n",
    "                 va='center',\n",
    "                 rotation='vertical')\n",
    "\n",
    "    plt.show()\n",
    "    return fig"
   ]
  },
  {
   "cell_type": "markdown",
   "id": "a9c12617",
   "metadata": {},
   "source": [
    "# complex square function"
   ]
  },
  {
   "cell_type": "code",
   "execution_count": 6,
   "id": "ddd904f1",
   "metadata": {
    "ExecuteTime": {
     "end_time": "2022-03-16T04:37:23.141904Z",
     "start_time": "2022-03-16T04:37:22.872207Z"
    }
   },
   "outputs": [],
   "source": [
    "@numba.vectorize(\n",
    "    [numba.float64(numba.complex128),\n",
    "     numba.float32(numba.complex64)])\n",
    "def abs2(x):\n",
    "\n",
    "    return x.real**2. + x.imag**2."
   ]
  },
  {
   "cell_type": "markdown",
   "id": "7c7c833b",
   "metadata": {},
   "source": [
    "# complex phase"
   ]
  },
  {
   "cell_type": "code",
   "execution_count": 7,
   "id": "b8c6b8ab",
   "metadata": {
    "ExecuteTime": {
     "end_time": "2022-03-16T04:37:23.242414Z",
     "start_time": "2022-03-16T04:37:23.143294Z"
    }
   },
   "outputs": [],
   "source": [
    "@numba.vectorize(\n",
    "    [numba.float64(numba.complex128),\n",
    "     numba.float32(numba.complex64)])\n",
    "def phase(x):\n",
    "\n",
    "    return cmath.phase(x)"
   ]
  },
  {
   "cell_type": "code",
   "execution_count": 8,
   "id": "aecc3dcf",
   "metadata": {
    "ExecuteTime": {
     "end_time": "2022-03-16T04:37:23.247910Z",
     "start_time": "2022-03-16T04:37:23.244043Z"
    }
   },
   "outputs": [],
   "source": [
    "@numba.jit\n",
    "def Delta_ZPL(eps_xx=0., \n",
    "              eps_yy=0., \n",
    "              eps_zz=0.):\n",
    "    \n",
    "    return Delta_ZPL_0 + t_para*eps_zz + t_perp*(eps_xx + eps_yy)"
   ]
  },
  {
   "cell_type": "code",
   "execution_count": 9,
   "id": "cbbe71b4",
   "metadata": {
    "ExecuteTime": {
     "end_time": "2022-03-16T04:37:23.252948Z",
     "start_time": "2022-03-16T04:37:23.249584Z"
    }
   },
   "outputs": [],
   "source": [
    "@numba.jit\n",
    "def Delta_gs(eps_xx=0., \n",
    "             eps_yy=0., \n",
    "             eps_yz=0., \n",
    "             eps_xy=0., \n",
    "             eps_zx=0.):\n",
    "\n",
    "    return np.sqrt(\n",
    "        np.sum([\n",
    "            lambda_SO_gs**2.,\n",
    "            4. * (d_gs * (eps_xx - eps_yy) + f_gs * eps_yz)**2.,\n",
    "            4. * (-2. * d_gs * eps_xy + f_gs * eps_zx)**2.\n",
    "        ]))"
   ]
  },
  {
   "cell_type": "code",
   "execution_count": 10,
   "id": "188d2c42",
   "metadata": {
    "ExecuteTime": {
     "end_time": "2022-03-16T04:37:23.260138Z",
     "start_time": "2022-03-16T04:37:23.256994Z"
    }
   },
   "outputs": [],
   "source": [
    "@numba.jit\n",
    "def Delta_es(eps_xx=0., \n",
    "             eps_yy=0., \n",
    "             eps_yz=0., \n",
    "             eps_xy=0., \n",
    "             eps_zx=0.):\n",
    "\n",
    "    return np.sqrt(\n",
    "        np.sum([\n",
    "            lambda_SO_es**2.,\n",
    "            4. * (d_es * (eps_xx - eps_yy) + f_es * eps_yz)**2.,\n",
    "            4. * (-2. * d_es * eps_xy + f_es * eps_zx)**2.\n",
    "        ]))"
   ]
  },
  {
   "cell_type": "code",
   "execution_count": 11,
   "id": "2b80e25c",
   "metadata": {
    "ExecuteTime": {
     "end_time": "2022-03-16T04:37:23.270206Z",
     "start_time": "2022-03-16T04:37:23.261807Z"
    }
   },
   "outputs": [],
   "source": [
    "@numba.jit\n",
    "def rho(nu_t,\n",
    "        nu_tau,\n",
    "        eps_xx=0.,\n",
    "        eps_yy=0.,\n",
    "        eps_zz=0.,\n",
    "        eps_yz=0.,\n",
    "        eps_xy=0.,\n",
    "        eps_zx=0.):\n",
    "\n",
    "    Del_ZPL = Delta_ZPL(eps_xx, eps_yy, eps_zz)\n",
    "\n",
    "    Del_gs = Delta_gs(eps_xx, eps_yy, eps_yz, eps_xy, eps_zx)\n",
    "\n",
    "    Del_es = Delta_es(eps_xx, eps_yy, eps_yz, eps_xy, eps_zx)\n",
    "\n",
    "    if peakVals:\n",
    "    \n",
    "        amp = np.array(\n",
    "            [0.0938, 0.0833, 0.0579, 0.0576,\n",
    "             0.0709, 1.0000, 0.0799, 0.1521, \n",
    "             0.0631, 0.0837, 0.3036, 0.0737, \n",
    "             0.0522, 0.1212, 0.0581, 0.1228])\n",
    "\n",
    "    else:\n",
    "    \n",
    "        amp = np.array(\n",
    "            [1., 1., 1., 1., \n",
    "             1., 1., 1., 1., \n",
    "             1., 1., 1., 1., \n",
    "             1., 1., 1., 1.])\n",
    "\n",
    "    sign = np.array([[ 1.,  1.,  1.,  1.], \n",
    "                     [ 1.,  1.,  1., -1.], \n",
    "                     [ 1.,  1., -1.,  1.],\n",
    "                     [ 1.,  1., -1., -1.], \n",
    "                     [ 1., -1.,  1.,  1.], \n",
    "                     [ 1., -1.,  1., -1.],\n",
    "                     [ 1., -1., -1.,  1.], \n",
    "                     [ 1., -1., -1., -1.],\n",
    "                     [-1.,  1.,  1.,  1.], \n",
    "                     [-1.,  1.,  1., -1.], \n",
    "                     [-1.,  1., -1.,  1.],\n",
    "                     [-1.,  1., -1., -1.], \n",
    "                     [-1., -1.,  1.,  1.],\n",
    "                     [-1., -1.,  1., -1.], \n",
    "                     [-1., -1., -1.,  1.],\n",
    "                     [-1., -1., -1., -1.]])\n",
    "\n",
    "    RHO = 1.j * np.zeros(np.shape(nu_t))\n",
    "\n",
    "    for i in range(np.shape(sign)[0]):\n",
    "        t_Lorentz = 1.j * np.sqrt(amp[i]) * gamma_10 / (\n",
    "            nu_t - (Del_ZPL + sign[i, 0]*Del_gs/2. + sign[i, 1]*Del_es/2. -\n",
    "                       1.j * gamma_10))\n",
    "        tau_Lorentz = 1.j * np.sqrt(amp[i]) * gamma_10 / (\n",
    "            nu_tau + (Del_ZPL + sign[i, 2]*Del_gs/2. + sign[i, 3]*Del_es/2. +\n",
    "                         1.j * gamma_10))\n",
    "\n",
    "        RHO += t_Lorentz * tau_Lorentz\n",
    "\n",
    "    return RHO"
   ]
  },
  {
   "cell_type": "code",
   "execution_count": 12,
   "id": "1fc70f5f",
   "metadata": {
    "ExecuteTime": {
     "end_time": "2022-03-16T04:37:23.274742Z",
     "start_time": "2022-03-16T04:37:23.272011Z"
    }
   },
   "outputs": [],
   "source": [
    "@numba.jit\n",
    "def Gaus(eps_ij):\n",
    "    \n",
    "    return 1. / StdDev / np.sqrt(2. * np.pi) * np.exp(-eps_ij**2. / 2. / StdDev**2.)"
   ]
  },
  {
   "cell_type": "code",
   "execution_count": 13,
   "id": "1424b9d5",
   "metadata": {
    "ExecuteTime": {
     "end_time": "2022-03-16T04:37:23.278817Z",
     "start_time": "2022-03-16T04:37:23.276083Z"
    }
   },
   "outputs": [],
   "source": [
    "@numba.jit\n",
    "def infint(func):\n",
    "    \n",
    "    return spint.quad_vec(func, -np.inf, np.inf)"
   ]
  },
  {
   "cell_type": "code",
   "execution_count": 14,
   "id": "ee301dfe",
   "metadata": {
    "ExecuteTime": {
     "end_time": "2022-03-16T04:37:23.284942Z",
     "start_time": "2022-03-16T04:37:23.280546Z"
    }
   },
   "outputs": [],
   "source": [
    "@numba.jit\n",
    "def tr_MCint(\n",
    "        nu_t=nu_t,\n",
    "        nu_tau=nu_tau,\n",
    "        MC_N=MC_N  # MC Steps\n",
    "):\n",
    "\n",
    "    randn_eps_yy_0 = StdDev * np.random.randn(MC_N)  # normal distribution\n",
    "\n",
    "    I_tr = 1.j * np.zeros((res, res))\n",
    "\n",
    "    if MC_N >= res**2:\n",
    "\n",
    "        # looping over nu mesh, equivalent to the below, tends to be faster if MC_N > res^2\n",
    "        for i, om_t in enumerate(nu_t):\n",
    "            for j, om_tau in enumerate(nu_tau):\n",
    "                I_tr[j, i] = np.mean(\n",
    "                    rho(om_t,\n",
    "                        om_tau,\n",
    "                        eps_xx=poi*randn_eps_yy_0,\n",
    "                        eps_yy=randn_eps_yy_0,\n",
    "                        eps_zz=poi*randn_eps_yy_0))\n",
    "\n",
    "    else:\n",
    "\n",
    "        # looping over MC stemp, equivalent to the top, tends to be faster if MC_N < res^2\n",
    "        for i in range(MC_N):\n",
    "            I_tr += rho(nu_t_mesh,\n",
    "                         nu_tau_mesh,\n",
    "                         eps_xx=poi*randn_eps_yy_0[i],\n",
    "                         eps_yy=randn_eps_yy_0[i],\n",
    "                         eps_zz=poi*randn_eps_yy_0[i])\n",
    "            \n",
    "    return I_tr"
   ]
  },
  {
   "cell_type": "code",
   "execution_count": null,
   "id": "ab5b2f0c",
   "metadata": {
    "ExecuteTime": {
     "start_time": "2022-03-16T04:37:21.152Z"
    }
   },
   "outputs": [
    {
     "name": "stderr",
     "output_type": "stream",
     "text": [
      "/var/folders/ll/xnd2vddx2v58kn3khq6ldnc00000gn/T/ipykernel_3955/21358557.py:1: NumbaWarning: \u001b[1m\n",
      "Compilation is falling back to object mode WITH looplifting enabled because Function \"infint\" failed type inference due to: \u001b[1m\u001b[1mnon-precise type pyobject\u001b[0m\n",
      "\u001b[0m\u001b[1mDuring: typing of argument at /var/folders/ll/xnd2vddx2v58kn3khq6ldnc00000gn/T/ipykernel_3955/21358557.py (4)\u001b[0m\n",
      "\u001b[1m\n",
      "File \"../../../../../../var/folders/ll/xnd2vddx2v58kn3khq6ldnc00000gn/T/ipykernel_3955/21358557.py\", line 4:\u001b[0m\n",
      "\u001b[1m<source missing, REPL/exec in use?>\u001b[0m\n",
      "\u001b[0m\n",
      "  @numba.jit\n",
      "/Users/tommychin/opt/anaconda3/lib/python3.8/site-packages/numba/core/object_mode_passes.py:151: NumbaWarning: \u001b[1mFunction \"infint\" was compiled in object mode without forceobj=True.\n",
      "\u001b[1m\n",
      "File \"../../../../../../var/folders/ll/xnd2vddx2v58kn3khq6ldnc00000gn/T/ipykernel_3955/21358557.py\", line 1:\u001b[0m\n",
      "\u001b[1m<source missing, REPL/exec in use?>\u001b[0m\n",
      "\u001b[0m\n",
      "  warnings.warn(errors.NumbaWarning(warn_msg,\n",
      "/Users/tommychin/opt/anaconda3/lib/python3.8/site-packages/numba/core/object_mode_passes.py:161: NumbaDeprecationWarning: \u001b[1m\n",
      "Fall-back from the nopython compilation path to the object mode compilation path has been detected, this is deprecated behaviour.\n",
      "\n",
      "For more information visit https://numba.pydata.org/numba-doc/latest/reference/deprecation.html#deprecation-of-object-mode-fall-back-behaviour-when-using-jit\n",
      "\u001b[1m\n",
      "File \"../../../../../../var/folders/ll/xnd2vddx2v58kn3khq6ldnc00000gn/T/ipykernel_3955/21358557.py\", line 1:\u001b[0m\n",
      "\u001b[1m<source missing, REPL/exec in use?>\u001b[0m\n",
      "\u001b[0m\n",
      "  warnings.warn(errors.NumbaDeprecationWarning(msg,\n",
      "/var/folders/ll/xnd2vddx2v58kn3khq6ldnc00000gn/T/ipykernel_3955/3137722074.py:1: NumbaWarning: \u001b[1m\n",
      "Compilation is falling back to object mode WITH looplifting enabled because Function \"rho\" failed type inference due to: \u001b[1m\u001b[1m\u001b[1mInvalid use of type(CPUDispatcher(<function Delta_gs at 0x7fc08e4dae50>)) with parameters (float64, float64, float64, float64, float64)\n",
      "\u001b[0m\n",
      "\u001b[0m\u001b[1mDuring: resolving callee type: type(CPUDispatcher(<function Delta_gs at 0x7fc08e4dae50>))\u001b[0m\n",
      "\u001b[0m\u001b[1mDuring: typing of call at /var/folders/ll/xnd2vddx2v58kn3khq6ldnc00000gn/T/ipykernel_3955/3137722074.py (13)\n",
      "\u001b[0m\n",
      "\u001b[1m\n",
      "File \"../../../../../../var/folders/ll/xnd2vddx2v58kn3khq6ldnc00000gn/T/ipykernel_3955/3137722074.py\", line 13:\u001b[0m\n",
      "\u001b[1m<source missing, REPL/exec in use?>\u001b[0m\n",
      "\u001b[0m\n",
      "  @numba.jit\n",
      "/var/folders/ll/xnd2vddx2v58kn3khq6ldnc00000gn/T/ipykernel_3955/3137722074.py:1: NumbaWarning: \u001b[1m\n",
      "Compilation is falling back to object mode WITHOUT looplifting enabled because Function \"rho\" failed type inference due to: \u001b[1m\u001b[1mCannot determine Numba type of <class 'numba.core.dispatcher.LiftedLoop'>\u001b[0m\n",
      "\u001b[1m\n",
      "File \"../../../../../../var/folders/ll/xnd2vddx2v58kn3khq6ldnc00000gn/T/ipykernel_3955/3137722074.py\", line 33:\u001b[0m\n",
      "\u001b[1m<source missing, REPL/exec in use?>\u001b[0m\n",
      "\u001b[0m\u001b[0m\n",
      "  @numba.jit\n",
      "/Users/tommychin/opt/anaconda3/lib/python3.8/site-packages/numba/core/object_mode_passes.py:151: NumbaWarning: \u001b[1mFunction \"rho\" was compiled in object mode without forceobj=True, but has lifted loops.\n",
      "\u001b[1m\n",
      "File \"../../../../../../var/folders/ll/xnd2vddx2v58kn3khq6ldnc00000gn/T/ipykernel_3955/3137722074.py\", line 11:\u001b[0m\n",
      "\u001b[1m<source missing, REPL/exec in use?>\u001b[0m\n",
      "\u001b[0m\n",
      "  warnings.warn(errors.NumbaWarning(warn_msg,\n",
      "/Users/tommychin/opt/anaconda3/lib/python3.8/site-packages/numba/core/object_mode_passes.py:161: NumbaDeprecationWarning: \u001b[1m\n",
      "Fall-back from the nopython compilation path to the object mode compilation path has been detected, this is deprecated behaviour.\n",
      "\n",
      "For more information visit https://numba.pydata.org/numba-doc/latest/reference/deprecation.html#deprecation-of-object-mode-fall-back-behaviour-when-using-jit\n",
      "\u001b[1m\n",
      "File \"../../../../../../var/folders/ll/xnd2vddx2v58kn3khq6ldnc00000gn/T/ipykernel_3955/3137722074.py\", line 11:\u001b[0m\n",
      "\u001b[1m<source missing, REPL/exec in use?>\u001b[0m\n",
      "\u001b[0m\n",
      "  warnings.warn(errors.NumbaDeprecationWarning(msg,\n"
     ]
    }
   ],
   "source": [
    "if MC_all:\n",
    "    \n",
    "    I_tr = tr_MCint()\n",
    "    \n",
    "else:\n",
    "\n",
    "    func = lambda eps_yy_0: Gaus(eps_yy_0) * rho(nu_t_mesh, \n",
    "                                                 nu_tau_mesh, \n",
    "                                                 eps_xx=poi*eps_yy_0,\n",
    "                                                 eps_yy=eps_yy_0,\n",
    "                                                 eps_zz=poi*eps_yy_0\n",
    "                                                )\n",
    "    I_tr, int_err_tr = infint(func)"
   ]
  },
  {
   "cell_type": "code",
   "execution_count": null,
   "id": "26ca0cf0",
   "metadata": {
    "ExecuteTime": {
     "start_time": "2022-03-16T04:37:21.154Z"
    }
   },
   "outputs": [],
   "source": [
    "@numba.jit\n",
    "def ax_MCint(\n",
    "        nu_t=nu_t,\n",
    "        nu_tau=nu_tau,\n",
    "        MC_N=MC_N  # MC Steps\n",
    "):\n",
    "\n",
    "    randn_eps_yy_0 = StdDev * np.random.randn(MC_N)  # normal distribution\n",
    "\n",
    "    I_ax = 1.j * np.zeros((res, res))\n",
    "\n",
    "    if MC_N >= res**2:\n",
    "\n",
    "        # looping over nu mesh, equivalent to the below, tends to be faster if MC_N > res^2\n",
    "        for i, om_t in enumerate(nu_t):\n",
    "            for j, om_tau in enumerate(nu_tau):\n",
    "                I_ax[j, i] = np.mean(\n",
    "                    rho(om_t,\n",
    "                        om_tau,\n",
    "                        eps_xx=(1. + 2. * poi) / 3. * randn_eps_yy_0,\n",
    "                        eps_yy=poi * randn_eps_yy_0,\n",
    "                        eps_zz=(2. + poi) / 3. * randn_eps_yy_0,\n",
    "                        eps_zx=np.sqrt(2.) * (1. - poi) / 3. * randn_eps_yy_0))\n",
    "\n",
    "    else:\n",
    "\n",
    "        # looping over MC stemp, equivalent to the top, tends to be faster if MC_N < res^2\n",
    "        for i in range(MC_N):\n",
    "            I_ax += rho(nu_t_mesh,\n",
    "                        nu_tau_mesh,\n",
    "                        eps_xx=(1. + 2. * poi) / 3. * randn_eps_yy_0[i],\n",
    "                        eps_yy=poi * randn_eps_yy_0[i],\n",
    "                        eps_zz=(2. + poi) / 3. * randn_eps_yy_0[i],\n",
    "                        eps_zx=np.sqrt(2.) * (1. - poi) / 3. *\n",
    "                        randn_eps_yy_0[i])\n",
    "\n",
    "    return I_ax"
   ]
  },
  {
   "cell_type": "code",
   "execution_count": null,
   "id": "fc814fb0",
   "metadata": {
    "ExecuteTime": {
     "start_time": "2022-03-16T04:37:21.155Z"
    }
   },
   "outputs": [],
   "source": [
    "if MC_all:\n",
    "    \n",
    "    I_ax = ax_MCint()\n",
    "    \n",
    "    I_uniDir = I_tr + I_ax\n",
    "    \n",
    "    I_uniDir /= np.sqrt(np.max(abs2(I_uniDir)))\n",
    "    \n",
    "else:\n",
    "\n",
    "    func = lambda eps_yy_0: Gaus(eps_yy_0) * rho(nu_t_mesh, \n",
    "                                                 nu_tau_mesh, \n",
    "                                                 eps_xx=(1. + 2.*poi)/3. * eps_yy_0,\n",
    "                                                 eps_yy=poi * eps_yy_0,\n",
    "                                                 eps_zz=(2. + poi)/3. * eps_yy_0,\n",
    "                                                 eps_zx=np.sqrt(2.)*(1. - poi)/3. * eps_yy_0\n",
    "                                                )\n",
    "    I_ax, int_err_ax = infint(func)\n",
    "\n",
    "    I_uniDir = I_tr + I_ax\n",
    "\n",
    "    I_uniDir /= np.sqrt(np.max(abs2(I_uniDir)))"
   ]
  },
  {
   "cell_type": "code",
   "execution_count": null,
   "id": "39c7a659",
   "metadata": {
    "ExecuteTime": {
     "start_time": "2022-03-16T04:37:21.157Z"
    }
   },
   "outputs": [],
   "source": [
    "# minPlt = 405.5   # THz\n",
    "# maxPlt = 408.75  # THz\n",
    "\n",
    "minPlt = nu_t_min   # THz\n",
    "maxPlt = nu_t_max  # THz\n",
    "\n",
    "minInd_t = np.argmin(np.abs(nu_t-minPlt))\n",
    "maxInd_t = np.argmin(np.abs(nu_t-maxPlt))\n",
    "\n",
    "minInd_tau = np.argmin(np.abs(nu_tau+maxPlt))\n",
    "maxInd_tau = np.argmin(np.abs(nu_tau+minPlt))\n",
    "\n",
    "I_uniDirPlt = I_uniDir[minInd_tau:maxInd_tau,minInd_t:maxInd_t]\n",
    "\n",
    "I_uniDir_ReImAmPh = np.array([I_uniDirPlt.real, \n",
    "                               I_uniDirPlt.imag, \n",
    "                               np.sqrt(abs2(I_uniDirPlt)), \n",
    "                               phase(I_uniDirPlt)])\n",
    "\n",
    "fig_uniDir = slices_plots(I_uniDir_ReImAmPh, \n",
    "                          shared_title='Unidirectional ' r'$\\epsilon_{yy}$' \n",
    "                          ' in cystral basis, StdDev =' f'{StdDev:.0e}', \n",
    "                          shared_title_y_position=0.95,\n",
    "                          figure_shape=[2,2], \n",
    "                          figure_size=[6,5.5],\n",
    "                          titles=[r'$\\mathfrak{R} \\left\\{I_{uniDir} (\\nu_t, \\nu_\\tau) \\right\\}$', \n",
    "                                  r'$\\mathfrak{I} \\left\\{I_{uniDir} (\\nu_t, \\nu_\\tau) \\right\\}$',\n",
    "                                  r'$             \\left |I_{uniDir} (\\nu_t, \\nu_\\tau) \\right |$',\n",
    "                                  r'$     \\varphi \\left\\{I_{uniDir} (\\nu_t, \\nu_\\tau) \\right\\}$'],\n",
    "                          horizontal_gap=0.15,\n",
    "                          shared_y_label_x_position=0.02, \n",
    "                          shared_x_label_y_position=0.06,\n",
    "                          EXTENT=(nu_t[minInd_t], \n",
    "                                  nu_t[maxInd_t], \n",
    "                                  nu_tau[minInd_tau], \n",
    "                                  nu_tau[maxInd_tau])\n",
    "                         )"
   ]
  },
  {
   "cell_type": "code",
   "execution_count": null,
   "id": "fdce03e0",
   "metadata": {
    "ExecuteTime": {
     "start_time": "2022-03-16T04:37:21.158Z"
    }
   },
   "outputs": [],
   "source": [
    "I_uniDir_proj = np.sqrt(abs2(np.sum(I_uniDir, axis=0))) # Projecting onto nu_t axis\n",
    "\n",
    "n = 30  # the larger n is, the smoother curve will be\n",
    "b = [1.0 / n] * n\n",
    "a = 1.\n",
    "\n",
    "if MC_all:\n",
    "    I_uniDir_proj_fill_amp = spsig.filtfilt(b, a, np.sqrt(abs2(I_uniDir_proj)))\n",
    "else:\n",
    "    I_uniDir_proj_fill_amp = I_uniDir_proj\n",
    "\n",
    "peaks, _ = spsig.find_peaks(I_uniDir_proj_fill_amp)\n",
    "results_half = spsig.peak_widths(I_uniDir_proj_fill_amp,\n",
    "                                 peaks,\n",
    "                                 rel_height=0.5)\n",
    "\n",
    "unstrained = np.sqrt(abs2(np.sum(rho(nu_t_mesh, nu_tau_mesh),\n",
    "                                 axis=0)))  # unstrained\n",
    "unstrained *= np.max(I_uniDir_proj_fill_amp) / np.max(unstrained)\n",
    "\n",
    "plt.figure()\n",
    "plt.plot(nu_t, I_uniDir_proj, alpha=0.5, label='raw')\n",
    "plt.plot(nu_t, I_uniDir_proj_fill_amp, c='C0',\n",
    "         label='filtered')  # smooth by filter\n",
    "plt.plot(nu_t, unstrained, label='unstrained')\n",
    "\n",
    "for i in range(len(peaks)):\n",
    "    \n",
    "    if i == np.argmax(results_half[0]):\n",
    "        color='C3'\n",
    "        Alpha=1\n",
    "    else:\n",
    "        color='C4'\n",
    "        Alpha=0.5\n",
    "        \n",
    "    plt.plot(nu_t[peaks[i]],\n",
    "             I_uniDir_proj_fill_amp[peaks[i]],\n",
    "             \"x\",\n",
    "             c='C2',\n",
    "             alpha=Alpha)\n",
    "    plt.hlines(results_half[1][i],\n",
    "               results_half[2][i] / res * (nu_t_max - nu_t_min) + nu_t_min,\n",
    "               results_half[3][i] / res * (nu_t_max - nu_t_min) + nu_t_min,\n",
    "               color=\"C2\",\n",
    "               alpha=Alpha)\n",
    "    plt.text(nu_t[peaks[i]],\n",
    "             results_half[1][i],\n",
    "             f'FWHM={results_half[0][i]/res*(nu_t_max-nu_t_min) :.2f}',\n",
    "             c=color,\n",
    "             alpha=Alpha,\n",
    "             ha='center',\n",
    "             va='top')\n",
    "plt.legend(labelcolor='k')\n",
    "plt.title(\n",
    "    r'Projection of $\\left |I_{uniDir} (\\nu_t, \\nu_\\tau) \\right |$ onto $\\nu_t$, StdDev ='\n",
    "    f'{StdDev:.2e}')\n",
    "plt.xlabel(r'Third-order frequency, $\\nu_t$ (THz)')\n",
    "plt.ylabel(r'Signal (arb. units)')\n",
    "plt.show()"
   ]
  },
  {
   "cell_type": "code",
   "execution_count": null,
   "id": "f38989b6",
   "metadata": {},
   "outputs": [],
   "source": []
  }
 ],
 "metadata": {
  "kernelspec": {
   "display_name": "Python 3 (ipykernel)",
   "language": "python",
   "name": "python3"
  },
  "language_info": {
   "codemirror_mode": {
    "name": "ipython",
    "version": 3
   },
   "file_extension": ".py",
   "mimetype": "text/x-python",
   "name": "python",
   "nbconvert_exporter": "python",
   "pygments_lexer": "ipython3",
   "version": "3.8.12"
  },
  "latex_envs": {
   "LaTeX_envs_menu_present": true,
   "autoclose": false,
   "autocomplete": true,
   "bibliofile": "biblio.bib",
   "cite_by": "apalike",
   "current_citInitial": 1,
   "eqLabelWithNumbers": true,
   "eqNumInitial": 1,
   "hotkeys": {
    "equation": "Ctrl-E",
    "itemize": "Ctrl-I"
   },
   "labels_anchors": false,
   "latex_user_defs": false,
   "report_style_numbering": false,
   "user_envs_cfg": false
  }
 },
 "nbformat": 4,
 "nbformat_minor": 5
}
