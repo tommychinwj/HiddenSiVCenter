{
 "cells": [
  {
   "cell_type": "markdown",
   "id": "7c3174c4",
   "metadata": {},
   "source": [
    "\\begin{align}\\label{eq:7}\n",
    "    I(\\omega_t, \\omega_\\tau) \\propto\n",
    "    & \\int \\dots \\int^{\\infty}_{-\\infty} d \\epsilon_{xx} d \\epsilon_{yy} d \\epsilon_{zz} d \\epsilon_{yz} d \\epsilon_{xy} d \\epsilon_{zx} \\\\ \n",
    "    & \\frac{1}{ \\left( \\sigma \\sqrt{2 \\pi} \\right)^6 } exp \\left[ \\frac{-\\epsilon_{xx}^2 -\\epsilon_{yy}^2 -\\epsilon_{zz}^2 -\\epsilon_{yz}^2 -\\epsilon_{xy}^2 -\\epsilon_{zx}^2}{2 \\sigma^2} \\right] \\\\ \n",
    "    & \\rho (\\omega_t, \\omega_{\\tau}, \\epsilon_{xx}, \\epsilon_{yy}, \\epsilon_{zz}, \\epsilon_{yz}, \\epsilon_{xy}, \\epsilon_{zx})\n",
    "\\end{align}"
   ]
  },
  {
   "cell_type": "markdown",
   "id": "7e781192",
   "metadata": {},
   "source": [
    "\\begin{equation}\\label{eq:4}\n",
    "    \\rho (\\omega_t, \\omega_{\\tau}, \\epsilon_{xx}, \\epsilon_{yy}, \\epsilon_{zz}, \\epsilon_{yz}, \\epsilon_{xy}, \\epsilon_{zx}) = - \\left( \\frac{1}{\\omega_t-[\\Delta_{ZPL} \\pm \\Delta_{gs} \\pm \\Delta_{es} - i \\gamma_{10}]} \\right ) \\left (\\frac{1}{\\omega_{\\tau}+[\\Delta_{ZPL} \\pm \\Delta_{gs} \\pm \\Delta_{es} + i \\gamma_{10}]} \\right)\n",
    "\\end{equation}\n"
   ]
  },
  {
   "cell_type": "markdown",
   "id": "659b11a8",
   "metadata": {},
   "source": [
    "\\begin{equation}\\label{eq:1}\n",
    "    \\Delta_{ZPL}(\\epsilon_{xx}, \\epsilon_{yy}, \\epsilon_{zz}) = \\Delta_{ZPL,0} + (t_{\\parallel,es} - t_{\\parallel,gs})\\epsilon_{zz} + (t_{\\perp,es} - t_{\\perp,gs})(\\epsilon_{xx} + \\epsilon_{yy})\n",
    "\\end{equation}\n"
   ]
  },
  {
   "cell_type": "markdown",
   "id": "774e2918",
   "metadata": {},
   "source": [
    "\\begin{equation}\\label{eq:2}\n",
    "    \\Delta_{gs}(\\epsilon_{xx}, \\epsilon_{yy}, \\epsilon_{yz}, \\epsilon_{xy}, \\epsilon_{zx}) = \\sqrt{\\lambda_{SO,gs}^2 + 4[d_{gs}(\\epsilon_{xx} - \\epsilon_{yy}) + f_{gs} \\epsilon_{yz}]^2 + 4[-2d_{gs} \\epsilon_{xy} + f_{gs} \\epsilon_{zx}]^2}\n",
    "\\end{equation}"
   ]
  },
  {
   "cell_type": "markdown",
   "id": "f45d2b3b",
   "metadata": {},
   "source": [
    "\\begin{equation}\\label{eq:3}\n",
    "    \\Delta_{es}(\\epsilon_{xx}, \\epsilon_{yy}, \\epsilon_{yz}, \\epsilon_{xy}, \\epsilon_{zx}) = \\sqrt{\\lambda_{SO,es}^2 + 4[d_{es}(\\epsilon_{xx} - \\epsilon_{yy}) + f_{es} \\epsilon_{yz}]^2 + 4[-2d_{es} \\epsilon_{xy} + f_{es} \\epsilon_{zx}]^2}\n",
    "\\end{equation}"
   ]
  },
  {
   "cell_type": "markdown",
   "id": "918a4148",
   "metadata": {},
   "source": [
    "# Monte Carlo Integration"
   ]
  },
  {
   "cell_type": "markdown",
   "id": "aa2ab9ad",
   "metadata": {},
   "source": [
    "\\begin{align}\\label{eq:8}\n",
    "\\int_{\\bar{x_a}}^{\\bar{x_b}} f(\\bar{x}) \\, d\\bar{x} \n",
    "& = \\left \\langle \\frac{f(\\bar{x})}{p(\\bar{x})} \\right \\rangle_p \\int_{\\bar{x_a}}^{\\bar{x_b}}p(\\bar{x}) \\, d\\bar{x} \\\\\n",
    "& \\approx \\frac{1}{N} \\sum_i^N \\frac{f(\\bar{x}_i)}{p(\\bar{x}_i)} \\int_{\\bar{x_a}}^{\\bar{x_b}} p(\\bar{x}) \\, d\\bar{x}\n",
    "\\end{align}"
   ]
  },
  {
   "cell_type": "markdown",
   "id": "d91f9fee",
   "metadata": {},
   "source": [
    "\\begin{equation}\\label{eq:}\n",
    "\\bar{x} \\in \\{ x_1, x_2, x_3, \\dots\\}\n",
    "\\end{equation}\n"
   ]
  },
  {
   "cell_type": "markdown",
   "id": "89fa37b9",
   "metadata": {},
   "source": [
    "## random numbers drawn from $p(x)$"
   ]
  },
  {
   "cell_type": "markdown",
   "id": "2b74a9a1",
   "metadata": {},
   "source": [
    "\\begin{equation}\\label{eq:9}\n",
    "f(\\epsilon_{xx}, \\epsilon_{yy}, \\epsilon_{zz}, \\epsilon_{yz}, \\epsilon_{xy}, \\epsilon_{zx}) = \\frac{1}{ \\left( \\sigma \\sqrt{2 \\pi} \\right)^6 } exp \\left[ \\frac{-\\epsilon_{xx}^2 -\\epsilon_{yy}^2 -\\epsilon_{zz}^2 -\\epsilon_{yz}^2 -\\epsilon_{xy}^2 -\\epsilon_{zx}^2}{2 \\sigma^2} \\right] \\rho (\\omega_t, \\omega_{\\tau}, \\epsilon_{xx}, \\epsilon_{yy}, \\epsilon_{zz}, \\epsilon_{yz}, \\epsilon_{xy}, \\epsilon_{zx})\n",
    "\\end{equation}\n"
   ]
  },
  {
   "cell_type": "markdown",
   "id": "2b2a0ea1",
   "metadata": {},
   "source": [
    "\\begin{equation}\\label{eq:10}\n",
    "p(\\epsilon_{xx}, \\epsilon_{yy}, \\epsilon_{zz}, \\epsilon_{yz}, \\epsilon_{xy}, \\epsilon_{zx}) = \\frac{1}{ \\left( \\sigma \\sqrt{2 \\pi} \\right)^6 } exp \\left[ \\frac{-\\epsilon_{xx}^2 -\\epsilon_{yy}^2 -\\epsilon_{zz}^2 -\\epsilon_{yz}^2 -\\epsilon_{xy}^2 -\\epsilon_{zx}^2}{2 \\sigma^2} \\right]\n",
    "\\end{equation}\n"
   ]
  },
  {
   "cell_type": "markdown",
   "id": "0ba0b97c",
   "metadata": {},
   "source": [
    "\\begin{equation}\\label{eq:12}\n",
    "\\int \\dots \\int^{\\infty}_{-\\infty} d \\epsilon_{xx} d \\epsilon_{yy} d \\epsilon_{zz} d \\epsilon_{yz} d \\epsilon_{xy} d \\epsilon_{zx} \\, p(\\epsilon_{xx}, \\epsilon_{yy}, \\epsilon_{zz}, \\epsilon_{yz}, \\epsilon_{xy}, \\epsilon_{zx}) = 1\n",
    "\\end{equation}\n"
   ]
  },
  {
   "cell_type": "markdown",
   "id": "ee57d9e0",
   "metadata": {},
   "source": [
    "\\begin{align}\\label{eq:14}\n",
    " I(\\omega_t, \\omega_\\tau)\n",
    "& \\propto \\left \\langle \\frac{f(\\bar{\\epsilon})}{p(\\bar{\\epsilon})} \\right \\rangle_p \\int_{\\bar{\\epsilon_a}}^{\\bar{\\epsilon_b}}p(\\bar{\\epsilon}) \\, d\\bar{\\epsilon} \\\\\n",
    "& \\tilde{\\propto} \\frac{1}{N} \\sum_i^N \\frac{f(\\bar{\\epsilon}_i)}{p(\\bar{\\epsilon}_i)} \\\\\n",
    "& \\tilde{\\propto} \\frac{1}{N} \\sum_i^N \\rho (\\omega_t, \\omega_{\\tau}, \\epsilon_{xx_i}, \\epsilon_{yy_i}, \\epsilon_{zz_i}, \\epsilon_{yz_i}, \\epsilon_{xy_i}, \\epsilon_{zx_i}) \\\\\n",
    "\\end{align}"
   ]
  },
  {
   "cell_type": "code",
   "execution_count": 32,
   "id": "21e8f375",
   "metadata": {
    "ExecuteTime": {
     "end_time": "2021-11-14T01:20:40.716952Z",
     "start_time": "2021-11-14T01:20:40.709489Z"
    }
   },
   "outputs": [],
   "source": [
    "import numpy as np\n",
    "A = np.arange(1, 10).reshape(3, 3)\n",
    "B = np.arange(1, 4)"
   ]
  },
  {
   "cell_type": "code",
   "execution_count": 33,
   "id": "6bf2b56a",
   "metadata": {
    "ExecuteTime": {
     "end_time": "2021-11-14T01:20:41.327120Z",
     "start_time": "2021-11-14T01:20:41.317766Z"
    }
   },
   "outputs": [
    {
     "data": {
      "text/plain": [
       "array([[1, 2, 3],\n",
       "       [4, 5, 6],\n",
       "       [7, 8, 9]])"
      ]
     },
     "execution_count": 33,
     "metadata": {},
     "output_type": "execute_result"
    }
   ],
   "source": [
    "A"
   ]
  },
  {
   "cell_type": "code",
   "execution_count": 34,
   "id": "9762d83d",
   "metadata": {
    "ExecuteTime": {
     "end_time": "2021-11-14T01:20:43.316051Z",
     "start_time": "2021-11-14T01:20:43.312173Z"
    }
   },
   "outputs": [
    {
     "data": {
      "text/plain": [
       "array([1, 2, 3])"
      ]
     },
     "execution_count": 34,
     "metadata": {},
     "output_type": "execute_result"
    }
   ],
   "source": [
    "B"
   ]
  },
  {
   "cell_type": "code",
   "execution_count": 35,
   "id": "522cce4a",
   "metadata": {
    "ExecuteTime": {
     "end_time": "2021-11-14T01:20:44.963623Z",
     "start_time": "2021-11-14T01:20:44.937272Z"
    }
   },
   "outputs": [
    {
     "ename": "ValueError",
     "evalue": "could not broadcast input array from shape (3,3) into shape (3,)",
     "output_type": "error",
     "traceback": [
      "\u001b[0;31m---------------------------------------------------------------------------\u001b[0m",
      "\u001b[0;31mValueError\u001b[0m                                Traceback (most recent call last)",
      "\u001b[0;32m/var/folders/ll/xnd2vddx2v58kn3khq6ldnc00000gn/T/ipykernel_1812/3623450392.py\u001b[0m in \u001b[0;36m<module>\u001b[0;34m\u001b[0m\n\u001b[0;32m----> 1\u001b[0;31m \u001b[0mnp\u001b[0m\u001b[0;34m.\u001b[0m\u001b[0msum\u001b[0m\u001b[0;34m(\u001b[0m\u001b[0;34m[\u001b[0m\u001b[0mA\u001b[0m\u001b[0;34m,\u001b[0m \u001b[0mB\u001b[0m\u001b[0;34m]\u001b[0m\u001b[0;34m,\u001b[0m \u001b[0maxis\u001b[0m \u001b[0;34m=\u001b[0m \u001b[0;36m0\u001b[0m\u001b[0;34m)\u001b[0m\u001b[0;34m\u001b[0m\u001b[0;34m\u001b[0m\u001b[0m\n\u001b[0m",
      "\u001b[0;32m<__array_function__ internals>\u001b[0m in \u001b[0;36msum\u001b[0;34m(*args, **kwargs)\u001b[0m\n",
      "\u001b[0;32m~/opt/anaconda3/lib/python3.8/site-packages/numpy/core/fromnumeric.py\u001b[0m in \u001b[0;36msum\u001b[0;34m(a, axis, dtype, out, keepdims, initial, where)\u001b[0m\n\u001b[1;32m   2245\u001b[0m         \u001b[0;32mreturn\u001b[0m \u001b[0mres\u001b[0m\u001b[0;34m\u001b[0m\u001b[0;34m\u001b[0m\u001b[0m\n\u001b[1;32m   2246\u001b[0m \u001b[0;34m\u001b[0m\u001b[0m\n\u001b[0;32m-> 2247\u001b[0;31m     return _wrapreduction(a, np.add, 'sum', axis, dtype, out, keepdims=keepdims,\n\u001b[0m\u001b[1;32m   2248\u001b[0m                           initial=initial, where=where)\n\u001b[1;32m   2249\u001b[0m \u001b[0;34m\u001b[0m\u001b[0m\n",
      "\u001b[0;32m~/opt/anaconda3/lib/python3.8/site-packages/numpy/core/fromnumeric.py\u001b[0m in \u001b[0;36m_wrapreduction\u001b[0;34m(obj, ufunc, method, axis, dtype, out, **kwargs)\u001b[0m\n\u001b[1;32m     85\u001b[0m                 \u001b[0;32mreturn\u001b[0m \u001b[0mreduction\u001b[0m\u001b[0;34m(\u001b[0m\u001b[0maxis\u001b[0m\u001b[0;34m=\u001b[0m\u001b[0maxis\u001b[0m\u001b[0;34m,\u001b[0m \u001b[0mout\u001b[0m\u001b[0;34m=\u001b[0m\u001b[0mout\u001b[0m\u001b[0;34m,\u001b[0m \u001b[0;34m**\u001b[0m\u001b[0mpasskwargs\u001b[0m\u001b[0;34m)\u001b[0m\u001b[0;34m\u001b[0m\u001b[0;34m\u001b[0m\u001b[0m\n\u001b[1;32m     86\u001b[0m \u001b[0;34m\u001b[0m\u001b[0m\n\u001b[0;32m---> 87\u001b[0;31m     \u001b[0;32mreturn\u001b[0m \u001b[0mufunc\u001b[0m\u001b[0;34m.\u001b[0m\u001b[0mreduce\u001b[0m\u001b[0;34m(\u001b[0m\u001b[0mobj\u001b[0m\u001b[0;34m,\u001b[0m \u001b[0maxis\u001b[0m\u001b[0;34m,\u001b[0m \u001b[0mdtype\u001b[0m\u001b[0;34m,\u001b[0m \u001b[0mout\u001b[0m\u001b[0;34m,\u001b[0m \u001b[0;34m**\u001b[0m\u001b[0mpasskwargs\u001b[0m\u001b[0;34m)\u001b[0m\u001b[0;34m\u001b[0m\u001b[0;34m\u001b[0m\u001b[0m\n\u001b[0m\u001b[1;32m     88\u001b[0m \u001b[0;34m\u001b[0m\u001b[0m\n\u001b[1;32m     89\u001b[0m \u001b[0;34m\u001b[0m\u001b[0m\n",
      "\u001b[0;31mValueError\u001b[0m: could not broadcast input array from shape (3,3) into shape (3,)"
     ]
    }
   ],
   "source": [
    "np.sum([A, B], axis = 0)"
   ]
  },
  {
   "cell_type": "code",
   "execution_count": 8,
   "id": "0645e8d7",
   "metadata": {
    "ExecuteTime": {
     "end_time": "2021-11-13T23:05:42.330099Z",
     "start_time": "2021-11-13T23:05:42.326767Z"
    }
   },
   "outputs": [
    {
     "data": {
      "text/plain": [
       "array([[1., 1., 1.],\n",
       "       [1., 1., 1.],\n",
       "       [1., 1., 1.]])"
      ]
     },
     "execution_count": 8,
     "metadata": {},
     "output_type": "execute_result"
    }
   ],
   "source": [
    "B"
   ]
  },
  {
   "cell_type": "code",
   "execution_count": null,
   "id": "36395d51",
   "metadata": {},
   "outputs": [],
   "source": []
  }
 ],
 "metadata": {
  "author": "l",
  "kernelspec": {
   "display_name": "Python 3 (ipykernel)",
   "language": "python",
   "name": "python3"
  },
  "language_info": {
   "codemirror_mode": {
    "name": "ipython",
    "version": 3
   },
   "file_extension": ".py",
   "mimetype": "text/x-python",
   "name": "python",
   "nbconvert_exporter": "python",
   "pygments_lexer": "ipython3",
   "version": "3.8.11"
  },
  "latex_envs": {
   "LaTeX_envs_menu_present": true,
   "autoclose": false,
   "autocomplete": true,
   "bibliofile": "biblio.bib",
   "cite_by": "apalike",
   "current_citInitial": 1,
   "eqLabelWithNumbers": true,
   "eqNumInitial": 1,
   "hotkeys": {
    "equation": "Ctrl-E",
    "itemize": "Ctrl-I"
   },
   "labels_anchors": false,
   "latex_user_defs": false,
   "report_style_numbering": false,
   "user_envs_cfg": false
  }
 },
 "nbformat": 4,
 "nbformat_minor": 5
}
