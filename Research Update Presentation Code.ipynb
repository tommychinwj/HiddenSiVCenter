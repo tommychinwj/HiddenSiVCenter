{
 "cells": [
  {
   "cell_type": "markdown",
   "id": "51c044ad",
   "metadata": {
    "ExecuteTime": {
     "end_time": "2021-10-25T22:17:02.814281Z",
     "start_time": "2021-10-25T22:17:02.810568Z"
    }
   },
   "source": [
    "research update plot"
   ]
  },
  {
   "cell_type": "markdown",
   "id": "a02a9938",
   "metadata": {},
   "source": [
    "figLOR3 = plt.figure(figsize=(2,2))\n",
    "im = plt.imshow(abs2(I_tot_het)/np.max(abs2(I_tot_het)), origin='lower', extent=Extent)\n",
    "plt.xlabel(r'$\\nu_t$ (arb. units)')\n",
    "plt.ylabel(r'$\\nu_\\tau$ (arb. units)')\n",
    "colorbar(im, 'Amplitude (arb. units)')\n",
    "plt.show()\n",
    "\n",
    "figLOR3.savefig(\"/Users/tommychin/Documents/research/Smallwood_research/researchUpdate3.eps\", \n",
    "                 format='eps', \n",
    "                 bbox_inches='tight')"
   ]
  },
  {
   "cell_type": "code",
   "execution_count": null,
   "id": "c2176d41",
   "metadata": {},
   "outputs": [],
   "source": [
    "Omega_t = np.linspace(0., 4.*np.pi, 1000)\n",
    "lorentzian = 1j / (Omega_t - (2.0*np.pi - 1j*gamma10))\n",
    "figLOR = plt.figure(figsize=(2,2))\n",
    "plt.plot(Omega_t / 2. / np.pi, abs2(lorentzian) / max(abs2(lorentzian)), 'r')\n",
    "plt.xlabel(r'$\\nu_t$ (arb. units)')\n",
    "plt.ylabel(r'Amplitude (arb. units)')\n",
    "plt.show()\n",
    "\n",
    "figLOR.savefig(\"/Users/tommychin/Documents/research/Smallwood_research/researchUpdate1.eps\", \n",
    "                 format='eps', \n",
    "                 bbox_inches='tight')"
   ]
  },
  {
   "cell_type": "code",
   "execution_count": null,
   "id": "a02311cc",
   "metadata": {},
   "outputs": [],
   "source": [
    "omega_t = np.linspace(0., 4.*np.pi, 500)\n",
    "omega_tau = np.linspace(-4.*np.pi, 0., 500)\n",
    "omega_t_mesh, omega_tau_mesh = np.meshgrid(omega_t, omega_tau, indexing='xy')\n",
    "lorentzian2 = rho_10_sig_3(omega_t_mesh, omega_tau_mesh, 2.*np.pi)\n",
    "\n",
    "plt.rcParams['image.cmap'] = 'Blues'\n",
    "\n",
    "Extent=(min(omega_t / 2. / np.pi),\n",
    "        max(omega_t / 2. / np.pi), \n",
    "        min(omega_tau / 2. / np.pi), \n",
    "        max(omega_tau / 2. / np.pi))\n",
    "\n",
    "figLOR4 = plt.figure(figsize=(2.5,2.5))\n",
    "im = plt.imshow(abs2(lorentzian2) / np.max(abs2(lorentzian2)), extent=(406.5, 407.1, -407.1, -406.5))\n",
    "plt.xlabel(r'Third-order frequency, $\\nu_t$, (THz)')\n",
    "plt.ylabel(r'First-order frequency, $\\nu_\\tau$, (THz)')\n",
    "colorbar(im, 'Amplitude (arb. units)')\n",
    "plt.show()\n",
    "\n",
    "figLOR4.savefig(\"/Users/tommychin/Documents/research/Smallwood_research/researchUpdate4.eps\", \n",
    "                 format='eps', \n",
    "                 bbox_inches='tight')"
   ]
  },
  {
   "cell_type": "code",
   "execution_count": null,
   "id": "a9844ca8",
   "metadata": {},
   "outputs": [],
   "source": []
  }
 ],
 "metadata": {
  "kernelspec": {
   "display_name": "Python 3 (ipykernel)",
   "language": "python",
   "name": "python3"
  },
  "language_info": {
   "codemirror_mode": {
    "name": "ipython",
    "version": 3
   },
   "file_extension": ".py",
   "mimetype": "text/x-python",
   "name": "python",
   "nbconvert_exporter": "python",
   "pygments_lexer": "ipython3",
   "version": "3.8.11"
  },
  "latex_envs": {
   "LaTeX_envs_menu_present": true,
   "autoclose": false,
   "autocomplete": true,
   "bibliofile": "biblio.bib",
   "cite_by": "apalike",
   "current_citInitial": 1,
   "eqLabelWithNumbers": true,
   "eqNumInitial": 1,
   "hotkeys": {
    "equation": "Ctrl-E",
    "itemize": "Ctrl-I"
   },
   "labels_anchors": false,
   "latex_user_defs": false,
   "report_style_numbering": false,
   "user_envs_cfg": false
  }
 },
 "nbformat": 4,
 "nbformat_minor": 5
}
